{
  "nbformat": 4,
  "nbformat_minor": 0,
  "metadata": {
    "kernelspec": {
      "display_name": "Python 3",
      "language": "python",
      "name": "python3"
    },
    "language_info": {
      "codemirror_mode": {
        "name": "ipython",
        "version": 3
      },
      "file_extension": ".py",
      "mimetype": "text/x-python",
      "name": "python",
      "nbconvert_exporter": "python",
      "pygments_lexer": "ipython3",
      "version": "3.7.4"
    },
    "colab": {
      "name": "KMC Assignment Solution.ipynb",
      "provenance": []
    }
  },
  "cells": [
    {
      "cell_type": "markdown",
      "metadata": {
        "id": "3J7OOgCdKdNQ"
      },
      "source": [
        "# K MEANS ASSIGNMENT\n",
        "<hr style=\"height:5px;border-width:2;color:gray\">"
      ]
    },
    {
      "cell_type": "markdown",
      "metadata": {
        "id": "S_vpyvrDKdNd"
      },
      "source": [
        "<div class = \"alert alert-block alert-info\">\n",
        "<b><u>Note</u></b>:<br>\n",
        "Since we are nearing the end of this course, this assignment is mostly unguided. This is done so for two reasons:<br>\n",
        "    <ol>\n",
        "        <li>This is a relatively easier algorithm to implement.</li>\n",
        "        <li>This will also help you gear up for the final task we have in store for you &#x1F609;.</li>\n",
        "    </ol>\n",
        "</div>"
      ]
    },
    {
      "cell_type": "markdown",
      "metadata": {
        "id": "J-yR1rtQKdNe"
      },
      "source": [
        "In this Assignment you will be implementing K Means from scratch on your own. If you have gone through the theory material, you will have implemented K Means using scikit learn. However to get a better understanding of what is actually happening behind the scenes, you will be implementing K Means from scratch.\n",
        "\n",
        "#### Dataset\n",
        "You are given a file \"data.npy\" along with this assignment notebook. Load the numpy array from that file and cluster on that data.\n",
        "\n",
        "#### Tasks\n",
        "<ul>\n",
        "    <li>\n",
        "        <b>Creating Functions</b>:<br>\n",
        "        You are expected to create the following functions.\n",
        "        <ul>\n",
        "            <li>Model function that implements K Means given K value and data. It should return the cluster centers.</li>\n",
        "            <li>Error function that calculates the SSE given cluster centers and data. It should return SSE value.</li>\n",
        "            <li>Function to plot Elbow plot given maximum number of K values and data.</li>\n",
        "        </ul>\n",
        "        Apart from these you can create as many helper funtions as you want but these three functions must be defined.\n",
        "    </li>\n",
        "    <li>\n",
        "        <b>Clustering</b>:<br>\n",
        "        Here you are expected to perform K Means clustering on the given data using the suitable K Value and then give suitable cluster centers.\n",
        "    </li>\n",
        "</ul>\n",
        "\n",
        "#### Evaluation\n",
        "In this Assignment you will be scored solely on the correctness and efficiency of your implementation.\n",
        "\n",
        "#### Important note\n",
        "<b>You are not allowed to use any library other than numpy and matplotlib (You can use seaborn instead of matplotlib if you wish to do so).</b>\n",
        "\n",
        "You can find many implementations of K Means from scratch online but please refrain from looking into those and try implementing on your own just using the theory that you know.\n",
        "\n",
        "Now that you have read all this, Code on!!"
      ]
    },
    {
      "cell_type": "markdown",
      "metadata": {
        "id": "0d_bM_QZKdNg"
      },
      "source": [
        "## General Remarks regarding the Assignment\n",
        "\n",
        "Overall almost all of you have done good implementations. But here are some common errors that were found:\n",
        "<ul>\n",
        "    <li>Many of you implemented KMeans only once in your model. KMeans involves random assignment of initial cluster centers and hence can end up with different cluster centers in the end. Therefore the KMeans algorithm is run multiple times and best clusters are chosen.</li>\n",
        "    <li>Many times due to random initializations, clusters may end up being empty and you may get a mean of empty slice warning. This is one of the factors taken for evaluation in the robustness section.</li>\n",
        "    <li>Many people wrote function to implement KMeans but did not implement it. 10 marks were alloted for implementation. 2 marks for plotting the elbow plot for given data. 5 marks for chosing the correct K Value [<b>The correct K value was 3 since this was the Iris dataset without class labels XD</b>]. 3 marks for implementing KMeans using K = 3 and displaying cluster centers.</li>\n",
        "</ul>"
      ]
    },
    {
      "cell_type": "markdown",
      "metadata": {
        "id": "Z8sPObz_KdNh"
      },
      "source": [
        "## Solution"
      ]
    },
    {
      "cell_type": "markdown",
      "metadata": {
        "id": "ISLMOiKCKdNi"
      },
      "source": [
        "### Creating Functions"
      ]
    },
    {
      "cell_type": "code",
      "metadata": {
        "id": "FqWO-YLwKdNi"
      },
      "source": [
        "import numpy as np\n",
        "import matplotlib.pyplot as plt\n",
        "plt.style.use(\"seaborn-darkgrid\")"
      ],
      "execution_count": null,
      "outputs": []
    },
    {
      "cell_type": "code",
      "metadata": {
        "id": "DMEBfUVVKdNk"
      },
      "source": [
        "def KMeans(K, X, num_iter = 50, max_steps = 100):\n",
        "    best_cluster_centers = np.zeros((K, X.shape[1])) #Initializing best cluster centers to zeros\n",
        "    min_SSE = np.inf #Setting minimum SSE to infinity\n",
        "    \n",
        "    for i in range(num_iter):\n",
        "        #Chosing K random data points as cluster centers without replacement\n",
        "        I = np.random.choice(np.arange(X.shape[0]), K, replace = False)\n",
        "        cluster_centers = X[I]\n",
        "        \n",
        "        for step in range(max_steps):\n",
        "            assigned_clusters = assign_clusters(X, cluster_centers)\n",
        "            \n",
        "            #This condition starts the current iteration again if there are any empty clusters\n",
        "            if(len(np.unique(assigned_clusters)) != K):\n",
        "                break\n",
        "            \n",
        "            prev_cluster_centers = cluster_centers #Storing value of previous cluster centers for later use\n",
        "            for k in range(K):\n",
        "                #Changing cluster centers to mean of data points belonging to one cluster\n",
        "                cluster_centers[k] = np.average(X[assigned_clusters == k], axis = 0)\n",
        "            \n",
        "            if(np.sum(cluster_centers == prev_cluster_centers) == np.size(cluster_centers)):\n",
        "                break #Stop taking steps if cluster centers stop changing\n",
        "        \n",
        "        SSE = calculate_SSE(X, cluster_centers)\n",
        "        \n",
        "        if(SSE < min_SSE):\n",
        "            best_cluster_centers = cluster_centers #Upddate best cluster centers if current SSE is lesser than min_SSE\n",
        "            min_SSE = SSE\n",
        "    \n",
        "    return best_cluster_centers"
      ],
      "execution_count": null,
      "outputs": []
    },
    {
      "cell_type": "code",
      "metadata": {
        "id": "Z4MpGA8oKdNl"
      },
      "source": [
        "def assign_clusters(X, cluster_centers):\n",
        "    K = cluster_centers.shape[0]\n",
        "    \n",
        "    #Initialize array to store distances of all data points from each cluster center\n",
        "    distances = np.zeros((X.shape[0], K))\n",
        "    \n",
        "    for k in range(K):\n",
        "        #Calculating distances of data points from each cluster center\n",
        "        distances[:, k] = np.sqrt(np.sum((X - cluster_centers[k])**2, axis = 1))\n",
        "    \n",
        "    assigned_clusters = np.argmin(distances, axis = 1) #Assigning closest cluster center to each data point\n",
        "    \n",
        "    return assigned_clusters"
      ],
      "execution_count": null,
      "outputs": []
    },
    {
      "cell_type": "code",
      "metadata": {
        "id": "jxy3IIRIKdNm"
      },
      "source": [
        "def calculate_SSE(X, cluster_centers):\n",
        "    assigned_clusters = assign_clusters(X, cluster_centers)\n",
        "    SSE = 0\n",
        "    \n",
        "    for k in range(cluster_centers.shape[0]):\n",
        "        SSE += np.sum((X[assigned_clusters == k] - cluster_centers[k])**2)\n",
        "    \n",
        "    return SSE"
      ],
      "execution_count": null,
      "outputs": []
    },
    {
      "cell_type": "code",
      "metadata": {
        "id": "mxf6_H1HKdNm"
      },
      "source": [
        "def plot_elbow(X, K_max = 10):\n",
        "    SSE_list = []\n",
        "    \n",
        "    for i in range(K_max):\n",
        "        cluster_centers = KMeans(i+1, X)\n",
        "        SSE = calculate_SSE(X, cluster_centers)\n",
        "        SSE_list.append(SSE)\n",
        "    \n",
        "    plt.plot(np.arange(1, K_max+1), SSE_list)\n",
        "    plt.title(\"Elbow plot (SSE vs K)\")\n",
        "    plt.ylabel(\"Sum of Squared Errors (SSE)\")\n",
        "    plt.xlabel(\"Number of Clusters (K)\")"
      ],
      "execution_count": null,
      "outputs": []
    },
    {
      "cell_type": "markdown",
      "metadata": {
        "id": "GtQxOWMQKdNp"
      },
      "source": [
        "### Clustering"
      ]
    },
    {
      "cell_type": "code",
      "metadata": {
        "id": "RioFV9KHKdNp"
      },
      "source": [
        "data = np.load(\"data.npy\")"
      ],
      "execution_count": null,
      "outputs": []
    },
    {
      "cell_type": "code",
      "metadata": {
        "id": "5FPaN5XpKdNq"
      },
      "source": [
        "plot_elbow(data)"
      ],
      "execution_count": null,
      "outputs": []
    },
    {
      "cell_type": "markdown",
      "metadata": {
        "id": "37DrsuhkKdNr"
      },
      "source": [
        "From the elbow plot, we can see that the curve starts to flatten out from K = 3. This makes sense since the data is from the Iris dataset."
      ]
    },
    {
      "cell_type": "code",
      "metadata": {
        "id": "P89gIpYIKdNs"
      },
      "source": [
        "KMeans(3, data)"
      ],
      "execution_count": null,
      "outputs": []
    }
  ]
}