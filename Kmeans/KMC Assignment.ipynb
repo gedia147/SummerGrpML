{
 "cells": [
  {
   "cell_type": "markdown",
   "metadata": {},
   "source": [
    "# K MEANS ASSIGNMENT\n",
    "<hr style=\"height:5px;border-width:2;color:gray\">"
   ]
  },
  {
   "cell_type": "markdown",
   "metadata": {},
   "source": [
    "<div class = \"alert alert-block alert-info\">\n",
    "<b><u>Note</u></b>:<br>\n",
    "Since we are nearing the end of this course, this assignment is mostly unguided. This is done so for two reasons:<br>\n",
    "    <ol>\n",
    "        <li>This is a relatively easier algorithm to implement.</li>\n",
    "        <li>This will also help you gear up for the final task we have in store for you &#x1F609;.</li>\n",
    "    </ol>\n",
    "</div>"
   ]
  },
  {
   "cell_type": "markdown",
   "metadata": {},
   "source": [
    "In this Assignment you will be implementing K Means from scratch on your own. If you have gone through the theory material, you will have implemented K Means using scikit learn. However to get a better understanding of what is actually happening behind the scenes, you will be implementing K Means from scratch.\n",
    "\n",
    "#### Dataset\n",
    "You are given a file \"data.npy\" along with this assignment notebook. Load the numpy array from that file and cluster on that data.\n",
    "\n",
    "#### Tasks\n",
    "<ul>\n",
    "    <li>\n",
    "        <b>Creating Functions</b>:<br>\n",
    "        You are expected to create the following functions.\n",
    "        <ul>\n",
    "            <li>Model function that implements K Means given K value and data. It should return the cluster centers.</li>\n",
    "            <li>Error function that calculates the SSE given cluster centers and data. It should return SSE value.</li>\n",
    "            <li>Function to plot Elbow plot given maximum number of K values and data.</li>\n",
    "        </ul>\n",
    "        Apart from these you can create as many helper funtions as you want but these three functions must be defined.\n",
    "    </li>\n",
    "    <li>\n",
    "        <b>Clustering</b>:<br>\n",
    "        Here you are expected to perform K Means clustering on the given data using the suitable K Value and then give suitable cluster centers.\n",
    "    </li>\n",
    "</ul>\n",
    "\n",
    "#### Evaluation\n",
    "In this Assignment you will be scored solely on the correctness and efficiency of your implementation.\n",
    "\n",
    "#### Important note\n",
    "<b>You are not allowed to use any library other than numpy and matplotlib (You can use seaborn instead of matplotlib if you wish to do so).</b>\n",
    "\n",
    "You can find many implementations of K Means from scratch online but please refrain from looking into those and try implementing on your own just using the theory that you know.\n",
    "\n",
    "Now that you have read all this, Code on!!"
   ]
  },
  {
   "cell_type": "code",
   "execution_count": null,
   "metadata": {},
   "outputs": [],
   "source": []
  }
 ],
 "metadata": {
  "kernelspec": {
   "display_name": "Python 3",
   "language": "python",
   "name": "python3"
  },
  "language_info": {
   "codemirror_mode": {
    "name": "ipython",
    "version": 3
   },
   "file_extension": ".py",
   "mimetype": "text/x-python",
   "name": "python",
   "nbconvert_exporter": "python",
   "pygments_lexer": "ipython3",
   "version": "3.7.4"
  }
 },
 "nbformat": 4,
 "nbformat_minor": 2
}
