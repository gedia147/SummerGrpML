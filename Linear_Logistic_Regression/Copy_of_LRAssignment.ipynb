{
  "nbformat": 4,
  "nbformat_minor": 0,
  "metadata": {
    "colab": {
      "name": "Copy of LRAssignment.ipynb",
      "provenance": [],
      "collapsed_sections": [
        "npYBRa4-hZwc",
        "zwljJM1ti6WC",
        "-oIWnQISjaIQ",
        "t513dvlanvfi",
        "4-AYV8pCsxHN"
      ],
      "toc_visible": true
    },
    "kernelspec": {
      "name": "python3",
      "display_name": "Python 3"
    }
  },
  "cells": [
    {
      "cell_type": "markdown",
      "metadata": {
        "id": "aVQ8jBUubwsN",
        "colab_type": "text"
      },
      "source": [
        "This is the linear regression exercise. First we will implement the algorithm from scratch. Then we will implement it using a widely used library in python- Scikit Learn aka Sklearn. Note that this assignment is relatively lengthy, but nevertheless, do not be discouraged!"
      ]
    },
    {
      "cell_type": "markdown",
      "metadata": {
        "id": "-uqWV54-cUQP",
        "colab_type": "text"
      },
      "source": [
        "# Data preprocessing "
      ]
    },
    {
      "cell_type": "code",
      "metadata": {
        "id": "n_sfF0Bb1EEF",
        "colab_type": "code",
        "colab": {}
      },
      "source": [
        "import sklearn\n",
        "import numpy as np\n",
        "import pandas as pd\n",
        "import matplotlib.pyplot as plt"
      ],
      "execution_count": null,
      "outputs": []
    },
    {
      "cell_type": "markdown",
      "metadata": {
        "id": "OiQuOZNAcopv",
        "colab_type": "text"
      },
      "source": [
        "We will be using the Boston housing dataset, a dataset containing details of houses in Boston. We will be using a subset of the actual dataset, which is easily available from sklearn. We will not be performing any exploratory data analysis as it is an extremely simple dataset with no null values and can easily be stored as numpy arrays instead of panda dataframes"
      ]
    },
    {
      "cell_type": "code",
      "metadata": {
        "id": "w0UTtfUv1buf",
        "colab_type": "code",
        "colab": {
          "base_uri": "https://localhost:8080/",
          "height": 33
        },
        "outputId": "bf72a7a3-15a1-49f5-8fb6-e38d23ed90c0"
      },
      "source": [
        "from sklearn.datasets import load_boston\n",
        "X , y = load_boston(return_X_y = True)\n",
        "y = y.reshape(506,1)\n",
        "print(X.shape, y.shape)"
      ],
      "execution_count": null,
      "outputs": [
        {
          "output_type": "stream",
          "text": [
            "(506, 13) (506, 1)\n"
          ],
          "name": "stdout"
        }
      ]
    },
    {
      "cell_type": "markdown",
      "metadata": {
        "id": "yHrPG4FRdEcB",
        "colab_type": "text"
      },
      "source": [
        "Note that m = number of training examples = 506\n",
        "and n = number of features = 13. \n",
        "\n",
        "\n",
        "\n",
        "Next we will split our dataset into a training set and testing set, a must do process in ML. We train our data using only the training test, and test our predictions on the testing set. Here we have divided the data into training and test sets in a 2:1 ratio. For more information check out"
      ]
    },
    {
      "cell_type": "markdown",
      "metadata": {
        "id": "Rflg4RGkd2QD",
        "colab_type": "text"
      },
      "source": [
        "https://scikit-learn.org/stable/modules/generated/sklearn.model_selection.train_test_split.html"
      ]
    },
    {
      "cell_type": "code",
      "metadata": {
        "id": "cakhw-6q14U6",
        "colab_type": "code",
        "colab": {}
      },
      "source": [
        "from sklearn.model_selection import train_test_split\n",
        "X_train, X_test, y_train, y_test = train_test_split(X, y, test_size=0.33, random_state=42)"
      ],
      "execution_count": null,
      "outputs": []
    },
    {
      "cell_type": "markdown",
      "metadata": {
        "id": "7oGTcCfzhSm9",
        "colab_type": "text"
      },
      "source": [
        "# Data Standardization (3 marks)"
      ]
    },
    {
      "cell_type": "markdown",
      "metadata": {
        "id": "fVeUNcuyd9LZ",
        "colab_type": "text"
      },
      "source": [
        "Next we will be performing an operation called data standardization. This basically converts the data roughly into a normal distribution so that gradient descent converges to its global minimum faster. Note that you might've seen this in prob stats :D"
      ]
    },
    {
      "cell_type": "code",
      "metadata": {
        "id": "t4ii0Cmmg_pj",
        "colab_type": "code",
        "colab": {}
      },
      "source": [
        "\"\"\" Standardization of data. We subtract the mean from each feature and then \n",
        "      divide it by the standard deviation\n",
        "\"\"\"\n",
        "mu =  np.mean(X_train,axis=0)  #ADD CODE HERE to calculate mean of each feature or column of the training set. Hint: use numpy\n",
        "sigma = np.std(X_train,axis=0)#ADD CODE HERE to calculate standard deviation of each feature of the training set\n",
        "\n",
        "X_train = (X_train- mu)/sigma  #Subtract mean from training data and then divide by standard deviation\n",
        "X_test = (X_test- mu)/sigma  #Subtract mean from testing data and then divide by standard deviation\n"
      ],
      "execution_count": null,
      "outputs": []
    },
    {
      "cell_type": "markdown",
      "metadata": {
        "id": "npYBRa4-hZwc",
        "colab_type": "text"
      },
      "source": [
        "# Parameter Initialization (3 marks)"
      ]
    },
    {
      "cell_type": "markdown",
      "metadata": {
        "id": "gWM1gHrEhewr",
        "colab_type": "text"
      },
      "source": [
        "Now we will intialize the X matrix and theta vector"
      ]
    },
    {
      "cell_type": "code",
      "metadata": {
        "id": "HlI0x_Zu2SjJ",
        "colab_type": "code",
        "colab": {}
      },
      "source": [
        "m = y_train.shape[0]\n",
        "n = X_train.shape[1]\n",
        "def initialize_params(X):\n",
        "  ones = np.ones((m,1)) #Numpy array of ones of size m x 1. This is the bias X0 = 1 which we add \n",
        "  X_new = np.insert(X_train,[0],ones,axis =1)#Horizontally stack the bias vector to the beginning of the X matrix\n",
        "  theta =np.zeros((n+1,1))#Numpy array of zeros. See theory to check dimensions\n",
        "  return X_new , theta\n"
      ],
      "execution_count": null,
      "outputs": []
    },
    {
      "cell_type": "code",
      "metadata": {
        "id": "x5328gVhSsBZ",
        "colab_type": "code",
        "colab": {}
      },
      "source": [
        "X_train, theta = initialize_params(X_train)"
      ],
      "execution_count": null,
      "outputs": []
    },
    {
      "cell_type": "markdown",
      "metadata": {
        "id": "zwljJM1ti6WC",
        "colab_type": "text"
      },
      "source": [
        "# Cost function (5 marks)"
      ]
    },
    {
      "cell_type": "code",
      "metadata": {
        "id": "iQGY-bNnoAs3",
        "colab_type": "code",
        "colab": {
          "base_uri": "https://localhost:8080/",
          "height": 33
        },
        "outputId": "821e8f0c-9d11-4851-ca7d-b3378e53beb4"
      },
      "source": [
        " X_train.shape,theta.shape"
      ],
      "execution_count": null,
      "outputs": [
        {
          "output_type": "execute_result",
          "data": {
            "text/plain": [
              "((339, 14), (14, 1))"
            ]
          },
          "metadata": {
            "tags": []
          },
          "execution_count": 120
        }
      ]
    },
    {
      "cell_type": "code",
      "metadata": {
        "id": "6iUPcP543GI4",
        "colab_type": "code",
        "colab": {}
      },
      "source": [
        "def compute_cost(theta, X, y):\n",
        "\n",
        "  J =  (np.sum((X.dot(theta)-y)**2))/(2*m)\n",
        "  return J"
      ],
      "execution_count": null,
      "outputs": []
    },
    {
      "cell_type": "code",
      "metadata": {
        "id": "aBi7kb5NXYZ9",
        "colab_type": "code",
        "colab": {
          "base_uri": "https://localhost:8080/",
          "height": 33
        },
        "outputId": "353aec41-e00f-438d-b478-8c8b200445da"
      },
      "source": [
        "compute_cost(theta, X_train, y_train)\n",
        "\n",
        "#If all code is correct you should see a cost of around 307.9"
      ],
      "execution_count": null,
      "outputs": [
        {
          "output_type": "execute_result",
          "data": {
            "text/plain": [
              "307.9009292035398"
            ]
          },
          "metadata": {
            "tags": []
          },
          "execution_count": 122
        }
      ]
    },
    {
      "cell_type": "markdown",
      "metadata": {
        "id": "-oIWnQISjaIQ",
        "colab_type": "text"
      },
      "source": [
        "# Gradient Descent (5 marks)"
      ]
    },
    {
      "cell_type": "markdown",
      "metadata": {
        "id": "8J2TfFWtjylb",
        "colab_type": "text"
      },
      "source": [
        "The gradient update rule for each parameter is :"
      ]
    },
    {
      "cell_type": "markdown",
      "metadata": {
        "id": "2KjK8X5mlE9j",
        "colab_type": "text"
      },
      "source": [
        "![alt text](https://miro.medium.com/max/880/1*CkcmVCUKmbA-qUn7y8srNQ.png)"
      ]
    },
    {
      "cell_type": "markdown",
      "metadata": {
        "id": "dqrmLimplRjH",
        "colab_type": "text"
      },
      "source": [
        "However , if we use a for loop, computation is really slow. Therefore we used a vectorized version of the gradient update rule which is :"
      ]
    },
    {
      "cell_type": "markdown",
      "metadata": {
        "id": "mGugql-6ldDJ",
        "colab_type": "text"
      },
      "source": [
        "![alt text](https://drive.google.com/uc?id=17LwD2Tse6w4j4hKCZF33B0ao6yqdzeqD)"
      ]
    },
    {
      "cell_type": "code",
      "metadata": {
        "id": "j4yxp2m8bPXH",
        "colab_type": "code",
        "colab": {}
      },
      "source": [
        "def gradient_descent(X, y, theta, learning_rate, n_iters):\n",
        "    J_history = np.zeros((n_iters,1))\n",
        "\n",
        "    for i in range(n_iters):\n",
        "      J_history[i] = compute_cost(theta, X, y)\n",
        "      theta = theta- (learning_rate/m)*((X.T).dot(X.dot(theta)-y))#Vectorized gradient update rule\n",
        "        \n",
        "\n",
        "    return (J_history, theta)"
      ],
      "execution_count": null,
      "outputs": []
    },
    {
      "cell_type": "markdown",
      "metadata": {
        "id": "t513dvlanvfi",
        "colab_type": "text"
      },
      "source": [
        "# Fitting the model and predictions (4 marks)"
      ]
    },
    {
      "cell_type": "code",
      "metadata": {
        "id": "P8BZPSzt4ET7",
        "colab_type": "code",
        "colab": {}
      },
      "source": [
        "(J_history, theta) = gradient_descent(X_train,y_train,theta,0.1,50)#Call the gradient descent function with the training data, with a learning rate of 0.1, for 50 iterations"
      ],
      "execution_count": null,
      "outputs": []
    },
    {
      "cell_type": "code",
      "metadata": {
        "id": "lZz0JhOK5zQq",
        "colab_type": "code",
        "colab": {
          "base_uri": "https://localhost:8080/",
          "height": 853
        },
        "outputId": "1c2dce03-c830-4a02-8fef-74040ff76cad"
      },
      "source": [
        "print(J_history) #If all code is correct, the last value of the cost should be around 11.795"
      ],
      "execution_count": null,
      "outputs": [
        {
          "output_type": "stream",
          "text": [
            "[[307.9009292 ]\n",
            " [240.75134671]\n",
            " [195.29896343]\n",
            " [159.97347194]\n",
            " [131.6648569 ]\n",
            " [108.83444813]\n",
            " [ 90.39390285]\n",
            " [ 75.49038842]\n",
            " [ 63.44065566]\n",
            " [ 53.69471527]\n",
            " [ 45.80928118]\n",
            " [ 39.426862  ]\n",
            " [ 34.25903464]\n",
            " [ 30.07301414]\n",
            " [ 26.680857  ]\n",
            " [ 23.93077521]\n",
            " [ 21.70014449]\n",
            " [ 19.88987325]\n",
            " [ 18.41986525]\n",
            " [ 17.22536211]\n",
            " [ 16.25399358]\n",
            " [ 15.46339798]\n",
            " [ 14.81930177]\n",
            " [ 14.29396917]\n",
            " [ 13.8649502 ]\n",
            " [ 13.51406944]\n",
            " [ 13.22660889]\n",
            " [ 12.99064766]\n",
            " [ 12.79652815]\n",
            " [ 12.6364245 ]\n",
            " [ 12.50399352]\n",
            " [ 12.39409246]\n",
            " [ 12.30255056]\n",
            " [ 12.22598433]\n",
            " [ 12.16164796]\n",
            " [ 12.10731229]\n",
            " [ 12.06116688]\n",
            " [ 12.02174058]\n",
            " [ 11.98783739]\n",
            " [ 11.95848436]\n",
            " [ 11.93288949]\n",
            " [ 11.91040756]\n",
            " [ 11.8905125 ]\n",
            " [ 11.87277493]\n",
            " [ 11.856844  ]\n",
            " [ 11.84243268]\n",
            " [ 11.82930579]\n",
            " [ 11.81727033]\n",
            " [ 11.8061676 ]\n",
            " [ 11.79586683]]\n"
          ],
          "name": "stdout"
        }
      ]
    },
    {
      "cell_type": "code",
      "metadata": {
        "id": "NEo1i_nR9ax3",
        "colab_type": "code",
        "colab": {
          "base_uri": "https://localhost:8080/",
          "height": 296
        },
        "outputId": "7078f8e7-9592-4827-cc1f-3b2b967a65c9"
      },
      "source": [
        "plt.plot(range(len(J_history)), J_history)\n",
        "plt.xlabel('Iteration number')\n",
        "plt.ylabel('Cost')"
      ],
      "execution_count": null,
      "outputs": [
        {
          "output_type": "execute_result",
          "data": {
            "text/plain": [
              "Text(0, 0.5, 'Cost')"
            ]
          },
          "metadata": {
            "tags": []
          },
          "execution_count": 126
        },
        {
          "output_type": "display_data",
          "data": {
            "image/png": "[encoded data removed]",
            "text/plain": [
              "<Figure size 432x288 with 1 Axes>"
            ]
          },
          "metadata": {
            "tags": [],
            "needs_background": "light"
          }
        }
      ]
    },
    {
      "cell_type": "markdown",
      "metadata": {
        "id": "PDle8PVUqc4a",
        "colab_type": "text"
      },
      "source": [
        "Observe that the cost decreases rapidly at first then slows down.After the 30th iteration, there isn't much change. So training for too many iterations after 30 iterations doesn't make sense."
      ]
    },
    {
      "cell_type": "code",
      "metadata": {
        "id": "lAUUCbdnjy-j",
        "colab_type": "code",
        "colab": {
          "base_uri": "https://localhost:8080/",
          "height": 33
        },
        "outputId": "322170ea-7fc4-4247-a5c4-c71083543c5e"
      },
      "source": [
        "from sklearn.metrics import mean_squared_error\n",
        "X_test = np.hstack((np.ones((X_test.shape[0],1)) , X_test))\n",
        "y_pred = X_test @ theta\n",
        "print(0.5 * mean_squared_error(y_pred, y_test))"
      ],
      "execution_count": null,
      "outputs": [
        {
          "output_type": "stream",
          "text": [
            "11.05982521984101\n"
          ],
          "name": "stdout"
        }
      ]
    },
    {
      "cell_type": "markdown",
      "metadata": {
        "id": "VnZ-12KHsQKH",
        "colab_type": "text"
      },
      "source": [
        "Great! Our loss on the test set is low as well. This means we have trained a pretty good model. Note that many times, the training loss will be very low while the test loss be relatively high. This is a problem known as ***overfitting*** that we will discuss later"
      ]
    },
    {
      "cell_type": "code",
      "metadata": {
        "id": "w1B6fpJnsl6m",
        "colab_type": "code",
        "colab": {}
      },
      "source": [
        ""
      ],
      "execution_count": null,
      "outputs": []
    },
    {
      "cell_type": "markdown",
      "metadata": {
        "id": "4-AYV8pCsxHN",
        "colab_type": "text"
      },
      "source": [
        "# Linear Regression Using Scikit Learn(5 marks)"
      ]
    },
    {
      "cell_type": "markdown",
      "metadata": {
        "id": "HnOj1mh4xubK",
        "colab_type": "text"
      },
      "source": [
        "Phew! All the code above can be written in just a couple of lines using scikit learn! For this section, we leave it up to you to google the code and write it on your own"
      ]
    },
    {
      "cell_type": "code",
      "metadata": {
        "id": "u_PtOosrtKOX",
        "colab_type": "code",
        "colab": {}
      },
      "source": [
        "from sklearn.linear_model import LinearRegression"
      ],
      "execution_count": null,
      "outputs": []
    },
    {
      "cell_type": "code",
      "metadata": {
        "id": "dyw6ZuKWtMvM",
        "colab_type": "code",
        "colab": {}
      },
      "source": [
        "linear_model =LinearRegression().fit(X_train, y_train)  #Create a linear regression object off the LinearRegression class\n",
        "\n",
        "#Now use the fit() method of the model on the training data below\n"
      ],
      "execution_count": null,
      "outputs": []
    },
    {
      "cell_type": "code",
      "metadata": {
        "id": "kZdsyPEEtabw",
        "colab_type": "code",
        "colab": {}
      },
      "source": [
        "#Use the predict function to get the predictions of the test and training data\n",
        "\n",
        "yPred_train = linear_model.predict(X_train)\n",
        "yPred_test = linear_model.predict(X_test)"
      ],
      "execution_count": null,
      "outputs": []
    },
    {
      "cell_type": "code",
      "metadata": {
        "id": "Wgrv7DGuv7Av",
        "colab_type": "code",
        "colab": {
          "base_uri": "https://localhost:8080/",
          "height": 50
        },
        "outputId": "3e47862a-572d-4cb6-995c-3493895d60b1"
      },
      "source": [
        "print(\"Training loss = \" + str(0.5 * mean_squared_error(yPred_train, y_train)))\n",
        "print(\"Test loss = \" + str(0.5 * mean_squared_error(yPred_test, y_test)))\n",
        "\n",
        "#If code is right you should see training loss of around 11.49 and test loss of 11.19"
      ],
      "execution_count": null,
      "outputs": [
        {
          "output_type": "stream",
          "text": [
            "Training loss = 11.492507920150404\n",
            "Test loss = 10.362011718669908\n"
          ],
          "name": "stdout"
        }
      ]
    },
    {
      "cell_type": "markdown",
      "metadata": {
        "id": "2fooZ-MpwGJL",
        "colab_type": "text"
      },
      "source": [
        "Awesome! Our model from scratch performs almost as good as the one from scikit learn. Remember that we use scikit learn extensively for ML algorithms, however, we have implemented it from scratch for the sake of understanding, which is crucial"
      ]
    },
    {
      "cell_type": "markdown",
      "metadata": {
        "id": "drZsxlCBwtlc",
        "colab_type": "text"
      },
      "source": [
        "Congratulations on completing your first machine learning algorithm!"
      ]
    },
    {
      "cell_type": "code",
      "metadata": {
        "id": "aUF6PNLpww5k",
        "colab_type": "code",
        "colab": {}
      },
      "source": [
        ""
      ],
      "execution_count": null,
      "outputs": []
    }
  ]
}