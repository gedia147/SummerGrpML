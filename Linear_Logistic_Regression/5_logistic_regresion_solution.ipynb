{
  "nbformat": 4,
  "nbformat_minor": 0,
  "metadata": {
    "kernelspec": {
      "display_name": "Python 3",
      "language": "python",
      "name": "python3"
    },
    "language_info": {
      "codemirror_mode": {
        "name": "ipython",
        "version": 3
      },
      "file_extension": ".py",
      "mimetype": "text/x-python",
      "name": "python",
      "nbconvert_exporter": "python",
      "pygments_lexer": "ipython3",
      "version": "3.7.7"
    },
    "colab": {
      "name": "5_logistic_regresion_solution.ipynb",
      "provenance": []
    }
  },
  "cells": [
    {
      "cell_type": "markdown",
      "metadata": {
        "id": "aC4FjhryBmTy"
      },
      "source": [
        "# Logistic Regression Assignment"
      ]
    },
    {
      "cell_type": "markdown",
      "metadata": {
        "id": "w6iYfJQJBmT-"
      },
      "source": [
        "## 1. Basic Design of the Model\n",
        "1. Output of the model: 0 or 1 (Binary Classification)\n",
        "2. Hypothesis to be tested: $Z = W \\cdot X + b$\n",
        "3. $g(x) = \\frac{1}{1 + e^{-x}} $ (Signmoid Function)"
      ]
    },
    {
      "cell_type": "markdown",
      "metadata": {
        "id": "sQEyo0DoBmT_"
      },
      "source": [
        "## 2. Packages Requires\n",
        "1. numpy: obviously\n",
        "2. matplotlib: obviously"
      ]
    },
    {
      "cell_type": "code",
      "metadata": {
        "id": "RvbifUo1BmUA"
      },
      "source": [
        "import numpy as np\n",
        "import matplotlib.pyplot as plt"
      ],
      "execution_count": null,
      "outputs": []
    },
    {
      "cell_type": "code",
      "metadata": {
        "id": "21gj6V-mBmUB"
      },
      "source": [
        "dataset = np.load('quickdraw/10k/dataset.npz')\n",
        "\n",
        "X_train = dataset['X_train']\n",
        "Y_train = dataset['Y_train']\n",
        "X_test = dataset['X_test']\n",
        "Y_test = dataset['Y_test']"
      ],
      "execution_count": null,
      "outputs": []
    },
    {
      "cell_type": "code",
      "metadata": {
        "id": "xuH5BVieBmUC",
        "outputId": "9e861f26-fe59-4dfb-f554-269a98f26889"
      },
      "source": [
        "# X_train, Y_train, X_test, Y_test = load_dataset(\"./quickdraw/20k/dataset.npz\")\n",
        "# X_train, Y_train, X_test, Y_test = load_dataset(\"./quickdraw/\")\n",
        "print(X_train.shape)\n",
        "print(Y_train.shape)\n",
        "print(X_test.shape)\n",
        "print(Y_test.shape)\n",
        "\n",
        "# TODO: Prettify\n",
        "idx = 3005\n",
        "plt.imshow(X_train[:, idx].reshape(28, 28))\n",
        "Y_train[:, idx]"
      ],
      "execution_count": null,
      "outputs": [
        {
          "output_type": "stream",
          "text": [
            "(784, 8000)\n",
            "(1, 8000)\n",
            "(784, 2000)\n",
            "(1, 2000)\n"
          ],
          "name": "stdout"
        },
        {
          "output_type": "execute_result",
          "data": {
            "text/plain": [
              "array([0.])"
            ]
          },
          "metadata": {
            "tags": []
          },
          "execution_count": 4
        },
        {
          "output_type": "display_data",
          "data": {
            "image/png": "[encoded data removed]",
            "text/plain": [
              "<Figure size 432x288 with 1 Axes>"
            ]
          },
          "metadata": {
            "tags": [],
            "needs_background": "light"
          }
        }
      ]
    },
    {
      "cell_type": "code",
      "metadata": {
        "id": "ELdC0gEXBmUF"
      },
      "source": [
        ""
      ],
      "execution_count": null,
      "outputs": []
    },
    {
      "cell_type": "code",
      "metadata": {
        "id": "70RvtPb9BmUG",
        "outputId": "139fcc9d-fea2-43a2-9955-453e2a821f29"
      },
      "source": [
        "X_train[:, 0]"
      ],
      "execution_count": null,
      "outputs": [
        {
          "output_type": "execute_result",
          "data": {
            "text/plain": [
              "array([  0,   0,   0,   0,   0,   0,   0,   0,   0,   0,   0,   0,   0,\n",
              "         0,   0,   0,   0,   0,   0,   0,   0,   0,   0,   0,   0,   0,\n",
              "         0,   0,   0,   0,   0,   0,   0,   0,   0,   0,   0,   0,   0,\n",
              "         0,   0,   0,   0,   0,   0,   0,   0,   0,   0,   0,   0,   0,\n",
              "         0,   0,   0,   0,   0,   0,   0,   0,   0,   0,   0,   0,   0,\n",
              "         0,   0,   0,   0,   0,   0,   0,   0,  19,  20,   0,   0,   0,\n",
              "         0,   0,   0,   0,   0,   0,   0,   0,   0,   0,   0,   0,   0,\n",
              "         0,   0,   0,   0,   0,   0,   0,   0,   0,   0, 188, 211,   3,\n",
              "         0,   0,   0,   0,   0,   0,   0,   0,   0,   0,   0,   0,   0,\n",
              "         0,   0,   0,   0,   0,   0,   0,   0,   0,   0,   0,  17, 251,\n",
              "       255,  84,   0,   0,   0,   0,   0,   0,   0,   0,   0,   0,   0,\n",
              "         0,   0,   6,  25,   0,   0,   0,   0,   0,   0,   0,   0,   0,\n",
              "        87, 255, 251, 147,   0,   0,   0,   0,   0,   0,   0,   0,   0,\n",
              "         0,   0,   0,   0, 114, 245,  61,   0,   0,   0,   0,   0,   0,\n",
              "         0,   0, 161, 229, 185, 201,   0,   0,   0,   0,   0,   0,   0,\n",
              "         0,   0,   0,   0,   0,   0,  94, 255, 241,  52,   0,   0,   7,\n",
              "        62, 114, 116,  43, 233, 156, 128, 248,  17,   0,   0,   0,   0,\n",
              "         0,   0,   0,   0,   0,   0,   0,   0,  53, 255, 250, 236,  44,\n",
              "        63, 225, 255, 255, 255, 253, 255,  82,  38, 251, 133,   0,   0,\n",
              "         0,   0,   0,   0,   0,   0,   0,   0,   0,   0,  12, 254, 142,\n",
              "       223, 239, 252, 212,  73,  11,  16, 145, 215,  13,   0, 157, 243,\n",
              "        22,   0,   0,   0,   0,   0,   0,   0,   0,   0,   0,   0,   0,\n",
              "       225, 155,  35, 213, 145,   8,   0,   0,   0,   0,   0,   0,   0,\n",
              "        31, 248, 143,   0,   0,   0,   0,   0,   0,   0,   0,   0,   0,\n",
              "         0,   0, 184, 196,   0,   0,   0,   0,   0,   0,   0,   0,   0,\n",
              "         0,   0,   0, 147, 247,  29,   0,   0,   0,   0,   0,   0,   0,\n",
              "         0,   0,   0,   6, 163, 238,   0,   0,   0,   0,   0,   0,   0,\n",
              "         0,   0, 138, 253,  95,  25, 249, 130,   0,   0,   0,   0,   0,\n",
              "         0,   0,   0,   0,   0, 117, 255, 255,  25,   0,  54,  55,   0,\n",
              "         0,   0,   0,   0, 208, 255, 136,   0, 184, 210,   0,   0,   0,\n",
              "         0,   0,   0,   0,   0,   0,   0, 105, 255, 255,  46,   0, 213,\n",
              "       255,  54,   0,   0,   0,   0,  35, 140,  46,   0, 104, 255, 110,\n",
              "         0,   0,   0,   0,   0,  43, 146, 105,  61,  75, 255, 101,   0,\n",
              "         0,  50,  74,   2,   0,   0,   0,   0,   0,   0,   0,   0, 101,\n",
              "       255, 246,   7,   0,   0,   0,   0,  71, 230, 255, 255, 255, 253,\n",
              "       224, 137,  90,   6,   0,   0,   0,   0,   0,   0,   0,   0,  14,\n",
              "       161, 255, 244, 187,   0,   0,   0,   0,   0,   0,   0,  21,  66,\n",
              "       111, 223, 249, 244, 255,  70,   0,   0,   0,   0,   0,   0,   0,\n",
              "         0, 157, 249, 120, 194, 183,   0,   0,   0,   0,   0,   0,   0,\n",
              "         0,   0,   0,  58, 253, 163, 225,   7,   0,   0,   0,   0,   0,\n",
              "         0,   0,   0,  39, 141, 165, 218, 194,   0,   0,   0,   0,   0,\n",
              "         0,   0,   0,   0,   0,   0, 152, 249,  54,  16,  78,  16,   0,\n",
              "         0,   0,   0,   7, 112, 235, 194, 222, 255, 255, 229, 165,  37,\n",
              "         0,   0,   0,   0,   0,   0,   0,   0,  16, 216, 235, 116, 255,\n",
              "       250, 188, 118, 137, 183, 233, 255, 177,  35,  53, 255, 148, 159,\n",
              "       216,  77,   0,   0,   0,   0,   0,   0,   0,   0,   0,  30, 227,\n",
              "       225,  92, 126, 204, 254, 243, 200, 153,  61,   0,   0, 176, 237,\n",
              "        13,   0,   0,   0,   0,   0,   0,   0,   0,   0,   0,   0,   0,\n",
              "         0,  42, 230, 255, 182,  58,  13,   1,   0,   0,   0,   0, 130,\n",
              "       255, 109,   0,   0,   0,   0,   0,   0,   0,   0,   0,   0,   0,\n",
              "         0,   0,   0,   0,  10, 112, 229, 255, 197, 126,  73,  80, 104,\n",
              "       196, 255, 146,   0,   0,   0,   0,   0,   0,   0,   0,   0,   0,\n",
              "         0,   0,   0,   0,   0,   0,   0,   0,   8, 106, 197, 250, 255,\n",
              "       255, 255, 217,  98,   1,   0,   0,   0,   0,   0,   0,   0,   0,\n",
              "         0,   0,   0,   0,   0,   0,   0,   0,   0,   0,   0,   0,   0,\n",
              "        11,  50,  41,  22,   1,   0,   0,   0,   0,   0,   0,   0,   0,\n",
              "         0,   0,   0,   0,   0,   0,   0,   0,   0,   0,   0,   0,   0,\n",
              "         0,   0,   0,   0,   0,   0,   0,   0,   0,   0,   0,   0,   0,\n",
              "         0,   0,   0,   0,   0,   0,   0,   0,   0,   0,   0,   0,   0,\n",
              "         0,   0,   0,   0,   0,   0,   0,   0,   0,   0,   0,   0,   0,\n",
              "         0,   0,   0,   0], dtype=uint8)"
            ]
          },
          "metadata": {
            "tags": []
          },
          "execution_count": 5
        }
      ]
    },
    {
      "cell_type": "code",
      "metadata": {
        "id": "utFvt_MCBmUH"
      },
      "source": [
        "X_train = X_train / 255\n",
        "X_test = X_test / 255"
      ],
      "execution_count": null,
      "outputs": []
    },
    {
      "cell_type": "markdown",
      "metadata": {
        "id": "DrxR9cIABmUH"
      },
      "source": [
        "## 3. Architecture of Model and Algorithm:\n",
        "For one training example $ X^{(i)} $ :\n",
        "### Forward Propagation\n",
        "$$ z^{(i)} = w \\cdot x^{(i)} + b $$\n",
        "$$ \\hat y^{(i)} = a^{(i)} = \\sigma(z^{(i)}) = sigmoid(z^{(i)}) $$\n",
        "$$ \\mathcal{L}(\\hat y^{(i)}, y^{(i)}) = \\mathcal{L}(a^{(i)}, y^{(i)}) = -[y^{(i)} \\log(a^{(i)}) + (1 - y^{(i)}) \\log(1 - a^{(i)})] $$\n",
        "$$ J = \\frac{1}{m} \\sum_{i = 1}^m \\mathcal{L} (a^{(i)}, y^{(i)}) $$\n",
        "\n",
        "Write Backprop\n"
      ]
    },
    {
      "cell_type": "code",
      "metadata": {
        "id": "xJYgfDb_BmUI"
      },
      "source": [
        "def sigmoid(z):\n",
        "    \"\"\"\n",
        "    Computes the element sigmoid of scalar or numpy array(element wise)\n",
        "    \n",
        "    Arguments:\n",
        "    z: Scalar or numpy array\n",
        "    \n",
        "    Returns:\n",
        "    s: Sigmoid of z (element wise in case of Numpy Array)\n",
        "    \"\"\"\n",
        "    s = 1. / (1 + np.exp(-z))\n",
        "    return s"
      ],
      "execution_count": null,
      "outputs": []
    },
    {
      "cell_type": "code",
      "metadata": {
        "id": "gAJjbacvBmUJ"
      },
      "source": [
        "def initialize_parameters(n_x):\n",
        "    \"\"\"\n",
        "    Creates a vector of shape (1, n_x) for W with random numbers, and initializes b to 0 \n",
        "    \n",
        "    Arguments:\n",
        "    n_x: Number of features in each sample of X\n",
        "    \n",
        "    Returns:\n",
        "    w: Initialized Numpy array os shape (1, n_x) (Weight)\n",
        "    b: Initialized Scalar (bias)\n",
        "    \"\"\"\n",
        "\n",
        "    W = np.zeros((1, n_x))\n",
        "    b = 0.\n",
        "    \n",
        "    return W, b"
      ],
      "execution_count": null,
      "outputs": []
    },
    {
      "cell_type": "code",
      "metadata": {
        "id": "iZceF6m8BmUK"
      },
      "source": [
        "def compute_cost(A, Y):\n",
        "    \"\"\"\n",
        "    \"\"\"\n",
        "    m = A.shape[1]\n",
        "    J_ce = -np.sum(Y * np.log(A) + (1 - Y) * np.log(1 - A)) / m\n",
        "    return np.squeeze(J_ce)\n",
        "    "
      ],
      "execution_count": null,
      "outputs": []
    },
    {
      "cell_type": "code",
      "metadata": {
        "id": "iQ4jMpIBBmUK"
      },
      "source": [
        "def propagate(W, b, X, Y):\n",
        "    \"\"\"\n",
        "    \"\"\"\n",
        "    \n",
        "    m = X.shape[1]\n",
        "    \n",
        "    # forward Propagate\n",
        "    Z = W @ X + b\n",
        "    A = sigmoid(Z)\n",
        "    \n",
        "    # Calculate Cost\n",
        "    cost = compute_cost(A, Y)\n",
        "    \n",
        "    # Backward Propagate\n",
        "    dW = (A - Y) @ X.T / m\n",
        "    db = np.sum(A - Y) / m\n",
        "    \n",
        "    assert dW.shape == W.shape\n",
        "    return dW, db, cost\n",
        "    "
      ],
      "execution_count": null,
      "outputs": []
    },
    {
      "cell_type": "code",
      "metadata": {
        "id": "b4kLLrqjBmUL"
      },
      "source": [
        "def predict(W, b, X):\n",
        "    \"\"\"\n",
        "    \"\"\"\n",
        "    \n",
        "    m = X.shape[1]\n",
        "    Y_prediction = np.zeros((1, m))\n",
        "    \n",
        "    A = sigmoid(W @ X + b)\n",
        "    \n",
        "    Y_preidction = (A>0.5).astype('int')\n",
        "    \n",
        "    return Y_preidction"
      ],
      "execution_count": null,
      "outputs": []
    },
    {
      "cell_type": "markdown",
      "metadata": {
        "id": "IW82ZaZrBmUL"
      },
      "source": [
        "## Optimization\n",
        "\n",
        "For a parameter $ \\theta $, the gradient descent update rule is given by:\n",
        "$$ \\theta := \\theta - \\alpha \\frac{\\partial J}{\\partial \\theta} $$\n",
        "where $\\alpha$ is the learning rate"
      ]
    },
    {
      "cell_type": "code",
      "metadata": {
        "id": "OLbCk7AXBmUM"
      },
      "source": [
        "def optimize(W, b, X, Y, num_iterations, learning_rate, print_freq=100):\n",
        "    \"\"\"\n",
        "    \"\"\"\n",
        "    \n",
        "    costs = []\n",
        "    for i in range(num_iterations):\n",
        "        dW, db, cost = propagate(W, b, X, Y)  \n",
        "\n",
        "        if i % 100 == 0:\n",
        "            costs.append(cost)\n",
        "            \n",
        "        if print_freq and i % print_freq == 0:\n",
        "            print(f\"Cost after iteration {i}: {cost}\")\n",
        "                \n",
        "        # Update parameters\n",
        "        W = W - learning_rate * dW\n",
        "        b = b - learning_rate * db      \n",
        "\n",
        "            \n",
        "    return W, b, costs\n",
        "        "
      ],
      "execution_count": null,
      "outputs": []
    },
    {
      "cell_type": "code",
      "metadata": {
        "id": "tC9WeI4-BmUN"
      },
      "source": [
        "def model(X_train, Y_train, X_test, Y_test, num_iterations=2000, learning_rate=0.05, print_freq=100):\n",
        "    \"\"\"\n",
        "    \"\"\"\n",
        "    \n",
        "    n_x = X_train.shape[0]\n",
        "    W, b = initialize_parameters(n_x)\n",
        "    \n",
        "    W, b, costs = optimize(W, b, X_train, Y_train, num_iterations, learning_rate, print_freq)\n",
        "    \n",
        "    Y_prediction_train = predict(W, b, X_train)\n",
        "    Y_prediction_test = predict(W, b, X_test)\n",
        "    \n",
        "    costs = np.squeeze(costs)\n",
        "    \n",
        "    print(f\"train accuracy: {100 - np.mean(np.abs(Y_prediction_train - Y_train)) * 100} %\")\n",
        "    print(f\"test accuracy: {100 - np.mean(np.abs(Y_prediction_test - Y_test)) * 100} %\")\n",
        "    \n",
        "    plt.plot(costs)\n",
        "    \n",
        "    plt.ylabel('cost')\n",
        "    plt.xlabel('iterations (per hundreds)')\n",
        "    plt.title(f\"Learning rate = {learning_rate}\")\n",
        "    plt.show()\n",
        "       "
      ],
      "execution_count": null,
      "outputs": []
    },
    {
      "cell_type": "code",
      "metadata": {
        "id": "T-DB7QWDBmUN",
        "outputId": "97356fd2-7840-464a-fabb-d75d6760dbe6"
      },
      "source": [
        "model(X_train, Y_train, X_test, Y_test, num_iterations=2500, learning_rate=0.1)"
      ],
      "execution_count": null,
      "outputs": [
        {
          "output_type": "stream",
          "text": [
            "Cost after iteration 0: 0.7097626552483987\n",
            "Cost after iteration 100: 0.343741556900201\n",
            "Cost after iteration 200: 0.32914516481565453\n",
            "Cost after iteration 300: 0.3233571467962758\n",
            "Cost after iteration 400: 0.31975757147035255\n",
            "Cost after iteration 500: 0.3170979191949737\n",
            "Cost after iteration 600: 0.31497351139930274\n",
            "Cost after iteration 700: 0.3132023849987081\n",
            "Cost after iteration 800: 0.3116845384356753\n",
            "Cost after iteration 900: 0.31035804259496197\n",
            "Cost after iteration 1000: 0.3091815733401467\n",
            "Cost after iteration 1100: 0.3081260976952292\n",
            "Cost after iteration 1200: 0.30717040610563767\n",
            "Cost after iteration 1300: 0.3062985091490693\n",
            "Cost after iteration 1400: 0.30549803241293544\n",
            "Cost after iteration 1500: 0.30475918380342\n",
            "Cost after iteration 1600: 0.30407406593976977\n",
            "Cost after iteration 1700: 0.30343620477299477\n",
            "Cost after iteration 1800: 0.3028402180454347\n",
            "Cost after iteration 1900: 0.3022815766784208\n",
            "Cost after iteration 2000: 0.3017564294137295\n",
            "Cost after iteration 2100: 0.30126147145610666\n",
            "Cost after iteration 2200: 0.3007938443415802\n",
            "Cost after iteration 2300: 0.3003510583799564\n",
            "Cost after iteration 2400: 0.2999309317014529\n",
            "train accuracy: 87.5125 %\n",
            "test accuracy: 87.4 %\n"
          ],
          "name": "stdout"
        },
        {
          "output_type": "display_data",
          "data": {
            "image/png": "[encoded data removed]",
            "text/plain": [
              "<Figure size 432x288 with 1 Axes>"
            ]
          },
          "metadata": {
            "tags": [],
            "needs_background": "light"
          }
        }
      ]
    }
  ]
}