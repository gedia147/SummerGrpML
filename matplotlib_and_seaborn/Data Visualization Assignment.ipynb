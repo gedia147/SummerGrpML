{
 "cells": [
  {
   "cell_type": "markdown",
   "metadata": {},
   "source": [
    "# DATA VISUALIZATION ASSIGNMENT (35)\n",
    "<hr style=\"height:5px;border-width:2;color:gray\">"
   ]
  },
  {
   "cell_type": "markdown",
   "metadata": {},
   "source": [
    "This assignment will be slightly different from the previous assignments. This assignment will be in the form of an open ended project. The assignment has been decided to be this way for three reasons:\n",
    "<ul>\n",
    "    <li>In this project you'll have an oppurtunity to use all the tools you have gathered so far (NumPy, Pandas, matplotlib and seaborn) and hence acts as a good conclusion to the three introductory data analysis topics.</li>\n",
    "    <li>Visualization is a field where your creativity counts and hence the project is open ended, giving you full power to chose how you want your project to be.</li>\n",
    "    <li>There's no better way to evaluate your visualization skills than a visualization project.</li>\n",
    "</ul>"
   ]
  },
  {
   "cell_type": "markdown",
   "metadata": {},
   "source": [
    "### In this assignment you will have to produce a publication quality plot using the tools you have learnt so far and gain useful insights from it."
   ]
  },
  {
   "cell_type": "markdown",
   "metadata": {},
   "source": [
    "#### Datasets\n",
    "\n",
    "<ul>\n",
    "    <li><a href = \"https://www.kaggle.com/karangadiya/fifa19\">FIFA 19 Dataset</a></li>\n",
    "    <li><a href = \"https://www.kaggle.com/sudalairajkumar/novel-corona-virus-2019-dataset\">COVID-19 Datasets</a> (You also have country level datasets in the dataset description)</li>\n",
    "    <li><a href = \"https://www.kaggle.com/shivamb/netflix-shows\">Netflix Movies and TV Shows Dataset</li>\n",
    "    <li><a href = \"https://www.kaggle.com/leonardopena/marvel-vs-dc\">Marvel and DC movies</a></li>\n",
    "    <li><a href = \"https://www.kaggle.com/smid80/weatherww2\">World War II weather data</a></li>\n",
    "</ul>\n",
    "\n",
    "<b>If you don't want to use these datasets you are free to chose one or more datasets from the internet or the ones in seaborn if you wish to.</b><br>\n",
    "\n",
    "Some websites (not limited to these websites) where you can find datasets:<br>\n",
    "<ul>\n",
    "    <li><a href = \"https://www.kaggle.com/datasets\">Kaggle Datasets</a></li>\n",
    "    <li><a href = \"https://archive.ics.uci.edu/ml/datasets.php\">UCI ML Repository Datasets</a></li>\n",
    "</ul>"
   ]
  },
  {
   "cell_type": "markdown",
   "metadata": {},
   "source": [
    "#### Steps to follow\n",
    "<ol>\n",
    "    <li><b>Choosing a dataset (Please clearly mention what dataset you have used in a markdown cell as shown in example).</b></li>\n",
    "    <li><b>Cleaning and preparing the data for plotting</b></li>\n",
    "    <li><b>Create a plot</b></li>\n",
    "    <li><b><u>Provide one or more insights from the plot (at least one) in a separate markdown cell after the plot.</u></b></li>\n",
    "</ol>"
   ]
  },
  {
   "cell_type": "markdown",
   "metadata": {},
   "source": [
    "#### Grading:\n",
    "<b>You will be graded on the following 5 factors:</b>\n",
    "<ul>\n",
    "    <li><b>Truthfulness (5)</b>: This section is the easiest to score. We'll take a look at your data cleaning process and make sure that you have not tampered with any data (like manually filling null values if exists). If all the methods used in the cleaning process are logically correct and the assumptions you have made (if any) are sensible, you'll get full points.</li>\n",
    "    <li><b>Beauty (5)</b>: Your plot should be visually appealing. You can use different matplotlib or seaborn styles to make your plot look good.</li>\n",
    "    <li><b>Functionality (5)</b>: You should draw a plot suitable the given data.</li>\n",
    "    <li><b>Completeness (10)</b>: Your plot should have a suitable title, axes labels, legend (if required) and all the other components that make a plot <b>complete</b>.</li>\n",
    "    <li><b>Insightfulness (10)</b>: You should give <b>at least one useful insight</b> that you can draw from the plot.</li>\n",
    "</ul><br>\n",
    "<b>Also note the following points</b>:\n",
    "<ul>\n",
    "    <li>You can use more than one dataset if you want to and also you can use only part of a dataset if you want to.</li>\n",
    "    <li>You will not be graded on what kind of dataset you chose. Feel free to chose any dataset you want.</li>\n",
    "    <li>You will not be graded on how complicated your plot is. A plot with a single line plot (if it deserves it) can get full points whereas a plot with many subplots can get less points (if it deserves it).</li>\n",
    "    <li>You will not be graded on your code but on your plot. So you are free to use a single line of seaborn code if you feel like it. This also means you can use functions or libraries not covered in the theory or exercise if you want.</li>\n",
    "    <li>Needless to say, please don't copy a plot from the theory or exercise. You are allowed to use the same kind of plot but not the exact same plot.</li>\n",
    "</ul>"
   ]
  },
  {
   "cell_type": "markdown",
   "metadata": {},
   "source": [
    "Take a look at the example notebook to get an idea of the assignment format. (The code may look extremely complicated, don't worry about it).<br><br>\n",
    "\n",
    "<b>We hope to see great plots from you all!!</b>"
   ]
  },
  {
   "cell_type": "code",
   "execution_count": null,
   "metadata": {},
   "outputs": [],
   "source": []
  }
 ],
 "metadata": {
  "kernelspec": {
   "display_name": "Python 3",
   "language": "python",
   "name": "python3"
  },
  "language_info": {
   "codemirror_mode": {
    "name": "ipython",
    "version": 3
   },
   "file_extension": ".py",
   "mimetype": "text/x-python",
   "name": "python",
   "nbconvert_exporter": "python",
   "pygments_lexer": "ipython3",
   "version": "3.7.4"
  }
 },
 "nbformat": 4,
 "nbformat_minor": 2
}
