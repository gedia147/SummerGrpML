{
 "cells": [
  {
   "cell_type": "markdown",
   "metadata": {},
   "source": [
    "# DATA VISUALIZATION EXERCISE\n",
    "<hr style=\"height:5px;border-width:2;color:gray\">"
   ]
  },
  {
   "cell_type": "markdown",
   "metadata": {},
   "source": [
    "Import NumPy, Pandas, matplotlib and seaborn"
   ]
  },
  {
   "cell_type": "code",
   "execution_count": null,
   "metadata": {},
   "outputs": [],
   "source": []
  },
  {
   "cell_type": "markdown",
   "metadata": {},
   "source": [
    "## MATPLOTLIB"
   ]
  },
  {
   "cell_type": "markdown",
   "metadata": {},
   "source": [
    "### Instructions:\n",
    "<b>Create a new figure with size (10,10) with 4 subplots and plot the following in their respective subplots.</b>\n",
    "<ol>\n",
    "    <li><b>(0,0)</b>: Plot the curve $y = 2x^2 + 3$ in dotted red.</li>\n",
    "    <li><b>(0,1)</b>: Plot the curves $y = x$ and $y = x^2$, and fill the area between them in blue color with an opacity of 0.25.</li>\n",
    "    <li><b>(1,0)</b>: Scatter a sine (opacity 0.7) curve with domain $[0,10]$ with 50 points and adding random noise (with normal diatribution). Also draw the best fit sine curve in the same plot in red.</li>\n",
    "    <li><b>(1,1)</b>: Draw a scatter plot of $y = x$  $[1,10]$ with their size being square of their ordinates.</li>\n",
    "</ol>\n",
    "Add a figure title as \"Different plots\" and add suitable title to each subplot. Add suitable legends to the subplots with more than one plot. Also adjust spacing between plots if required."
   ]
  },
  {
   "cell_type": "code",
   "execution_count": null,
   "metadata": {},
   "outputs": [],
   "source": []
  },
  {
   "cell_type": "markdown",
   "metadata": {},
   "source": [
    "## PANDAS VISUALIZATION"
   ]
  },
  {
   "cell_type": "markdown",
   "metadata": {},
   "source": [
    "### Load the dataset <code>titanic</code> from seaborn into a dataframe called titanic and view and get info about it."
   ]
  },
  {
   "cell_type": "code",
   "execution_count": null,
   "metadata": {},
   "outputs": [],
   "source": []
  },
  {
   "cell_type": "code",
   "execution_count": null,
   "metadata": {},
   "outputs": [],
   "source": []
  },
  {
   "cell_type": "markdown",
   "metadata": {},
   "source": [
    "### Plot histograms to show distribution of <code>age</code> of passengers by <code>sex</code>\n",
    "<b>Note</b>:\n",
    "<ul>\n",
    "    <li>Let the bin count be 10 for both male and female.</li>\n",
    "    <li>Change opacity to make the histograms clear.</li>\n",
    "    <li>Add suitable title, axes labels and legend.</li>\n",
    "</ul>"
   ]
  },
  {
   "cell_type": "code",
   "execution_count": null,
   "metadata": {},
   "outputs": [],
   "source": []
  },
  {
   "cell_type": "markdown",
   "metadata": {},
   "source": [
    "### Plot a pie chart to show distribution of passenger by <code>embark_town</code>"
   ]
  },
  {
   "cell_type": "code",
   "execution_count": null,
   "metadata": {},
   "outputs": [],
   "source": []
  },
  {
   "cell_type": "markdown",
   "metadata": {},
   "source": [
    "## SEABORN"
   ]
  },
  {
   "cell_type": "markdown",
   "metadata": {},
   "source": [
    "### Recreate the following figure : <a href = \"https://pasteboard.co/J7Uf716.jpg\">Link</a>\n",
    "<b>Hint</b>: It can be drawn using a single line of code.  Looking at seaborn documentation for different plots might help"
   ]
  },
  {
   "cell_type": "code",
   "execution_count": null,
   "metadata": {},
   "outputs": [],
   "source": []
  },
  {
   "cell_type": "markdown",
   "metadata": {},
   "source": [
    "### Plot a correlation heatmap for the titanic dataset\n",
    "A correlation heatmap shows how different features are correlated to each other.<br>\n",
    "Use a different colormap than the default one. Chose one from <a href = \"https://matplotlib.org/tutorials/colors/colormaps.html\">these</a>. Also show the corresponding correlation values in the corresponding grids.<br>(Your heatmap may look broken in the y axis. Try fixing the issue on your own)"
   ]
  },
  {
   "cell_type": "code",
   "execution_count": null,
   "metadata": {},
   "outputs": [],
   "source": []
  }
 ],
 "metadata": {
  "kernelspec": {
   "display_name": "Python 3",
   "language": "python",
   "name": "python3"
  },
  "language_info": {
   "codemirror_mode": {
    "name": "ipython",
    "version": 3
   },
   "file_extension": ".py",
   "mimetype": "text/x-python",
   "name": "python",
   "nbconvert_exporter": "python",
   "pygments_lexer": "ipython3",
   "version": "3.7.4"
  }
 },
 "nbformat": 4,
 "nbformat_minor": 2
}
