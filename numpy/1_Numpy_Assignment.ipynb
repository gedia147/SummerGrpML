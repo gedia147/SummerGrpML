{
 "cells": [
  {
   "cell_type": "code",
   "execution_count": 0,
   "metadata": {
    "colab": {},
    "colab_type": "code",
    "id": "K1Oq7GQpDyfk"
   },
   "outputs": [],
   "source": [
    "import numpy as np"
   ]
  },
  {
   "cell_type": "markdown",
   "metadata": {
    "colab_type": "text",
    "id": "aYKL_KnCD5qj"
   },
   "source": [
    "# Instructions:\n",
    "1. Only edit YOUR CODE HERE\n",
    "2. Each question is of 5 Marks total (4.1 and 4.2 are 5 marks each) for a total of 35 marks\n",
    "3. Marks are given for Clarity, Conciseness and accuracy of your code"
   ]
  },
  {
   "cell_type": "markdown",
   "metadata": {
    "colab_type": "text",
    "id": "Pi3b6wsBFZQF"
   },
   "source": [
    "## 1. Windows and Strides \n",
    "Given a 1D array, and parameters window_len and stride_len, do the following:\n",
    "1. Divide the 1D array into smaller arrays of size window len starting at index 0\n",
    "2. Move the starting index by step size stride_len eachh time\n",
    "3. Return all windows as a 2D numpy array\n",
    "\n",
    "Eg:\n",
    "```python\n",
    "arr = [1, 2, 3, 4, 5, 6, 7, 8]\n",
    "stride_len = 2\n",
    "window_len = 4\n",
    "```\n",
    "```\n",
    "gen_strides(arr, stride_len, window_len) -> \n",
    "                                [[1, 2, 3, 4],\n",
    "                                 [3, 4, 5, 6],\n",
    "                                 [5, 6, 7, 8]]\n",
    "```"
   ]
  },
  {
   "cell_type": "code",
   "execution_count": 0,
   "metadata": {
    "colab": {},
    "colab_type": "code",
    "id": "HB5jC7h3Gglq"
   },
   "outputs": [],
   "source": [
    "def gen_strides(arr, stride_len, window_len):\n",
    "    \"\"\"\n",
    "    Input:\n",
    "        arr: Numpy array of 1 dimension\n",
    "        stride_len: int, stride length\n",
    "        window_len: int, window length\n",
    "    Output:\n",
    "        window_strides: Numpy array of 2 dimensions containing windowed strides\n",
    "    \"\"\"\n",
    "\n",
    "    ### Write your code here\n",
    "\n",
    "    return window_strides"
   ]
  },
  {
   "cell_type": "markdown",
   "metadata": {
    "colab_type": "text",
    "id": "RBpIUPEQIje5"
   },
   "source": [
    "## 2. Shuffle\n",
    "Given a numpy array of arbitrary dimensions ($\\ge1$), shuffle its rows randomly \n",
    "\n",
    "Eg:\n",
    "```\n",
    "arr = [[1, 2, 3],\n",
    "       [4, 5, 6],\n",
    "       [7, 8, 9]]\n",
    "```\n",
    "then,\n",
    "\n",
    "```\n",
    "shuf(arr) -> [[7, 8, 9],\n",
    "              [1, 2, 3],\n",
    "              [4, 5, 6]]\n",
    "```"
   ]
  },
  {
   "cell_type": "code",
   "execution_count": 0,
   "metadata": {
    "colab": {},
    "colab_type": "code",
    "id": "0GVMkDqIKkLf"
   },
   "outputs": [],
   "source": [
    "def shuf(arr):\n",
    "    \"\"\"\n",
    "    Input:\n",
    "        arr: Numpy array of arbitrary number of dimensions\n",
    "    Output:\n",
    "        shuffled_arr: numpy array of same shape as arr but with rows shuffled\n",
    "    \"\"\"\n",
    "\n",
    "    ### Write Code here\n",
    "\n",
    "\n",
    "    return shuffled_arr"
   ]
  },
  {
   "cell_type": "markdown",
   "metadata": {
    "colab_type": "text",
    "id": "LY5CNZrLShfJ"
   },
   "source": [
    "### 3. Match\n",
    "\n",
    "Get the indices corresponding to the matching elements of array a and array b\n",
    "\n",
    "Eg:\n",
    "```python\n",
    "a = [1, 2, 3, 4, 5, 6, 7, 8, 9]\n",
    "b = [0, 2, 4, 8, 7, 6, 7, 9, 8]\n",
    "```\n",
    "\n",
    "Then,\n",
    "```\n",
    "match(a, b) -> [1, 5, 6]\n",
    "```"
   ]
  },
  {
   "cell_type": "code",
   "execution_count": 0,
   "metadata": {
    "colab": {},
    "colab_type": "code",
    "id": "G8gUM8xsTKC_"
   },
   "outputs": [],
   "source": [
    "def match(a, b):\n",
    "    \"\"\"\n",
    "    Inputs:\n",
    "        a: Numpy array of one dimension\n",
    "        b: Numpy array of one dimension\n",
    "    Output:\n",
    "        matched_idx: List containing indices where both arrays have same elements\n",
    "    \"\"\"\n",
    "    ### Write Code her\n",
    "\n",
    "\n",
    "    return matched_idx"
   ]
  },
  {
   "cell_type": "markdown",
   "metadata": {
    "colab_type": "text",
    "id": "1Iuj8NqMUoCO"
   },
   "source": [
    "### 4.1 Minor of a matrix\n",
    "\n",
    "Given a numpy array of shape `(n, n)` and an index i, find the minor of element at row 0, column i of the matrix\n",
    "\n",
    "Eg:\n",
    "```python\n",
    "mat = [[1, 2, 3],\n",
    "       [4, 5, 6],\n",
    "       [7, 8, 9]]\n",
    "```\n",
    "\n",
    "Then,\n",
    "```\n",
    "minor(mat, 1) -> [[4, 6],\n",
    "                  [7, 9]]\n",
    "```"
   ]
  },
  {
   "cell_type": "code",
   "execution_count": 0,
   "metadata": {
    "colab": {},
    "colab_type": "code",
    "id": "JMIYjpC1VWIU"
   },
   "outputs": [],
   "source": [
    "def minor(mat, i):\n",
    "    \"\"\"\n",
    "    Inputs:\n",
    "        mat: A numpy array of shape (n, n)\n",
    "        i: int, Column of which minor is to be found\n",
    "    Outputs:\n",
    "        mat_minor: A numpy array of shape (n - 1, n - 1) containing minor of mat\n",
    "    \"\"\"\n",
    "    ### write code here\n",
    "\n",
    "\n",
    "    return minor_mat "
   ]
  },
  {
   "cell_type": "markdown",
   "metadata": {
    "colab_type": "text",
    "id": "9oX_EJquXttt"
   },
   "source": [
    "### 4.2 Determinant of a matrix\n",
    "Given a numpy array of shape (n, n) find its determinant"
   ]
  },
  {
   "cell_type": "code",
   "execution_count": 0,
   "metadata": {
    "colab": {},
    "colab_type": "code",
    "id": "SRvikvhQX4h9"
   },
   "outputs": [],
   "source": [
    "def det(mat):\n",
    "    \"\"\"\n",
    "    Inputs: \n",
    "        mat: A numpy array of shape (n, n)\n",
    "    Outputs:\n",
    "        det_mat: Determinant of mat\n",
    "    \"\"\"\n",
    "    ### Write code here\n",
    "\n",
    "    return det_mat"
   ]
  },
  {
   "cell_type": "markdown",
   "metadata": {
    "colab_type": "text",
    "id": "irZMP8_4T5yv"
   },
   "source": [
    "### 5. Inverse of Array\n",
    "Given a numpy array with shape `(n, n)` find its inverse"
   ]
  },
  {
   "cell_type": "code",
   "execution_count": 0,
   "metadata": {
    "colab": {},
    "colab_type": "code",
    "id": "VB2qPuFXUKuV"
   },
   "outputs": [],
   "source": [
    "def inv(mat):\n",
    "    \"\"\"\n",
    "    Inputs:\n",
    "        mat: Numpy array of shape (n, n)\n",
    "    Outputs:\n",
    "        mat_inv: Inverse of mat\n",
    "    \"\"\"\n",
    "    ### Write Code here\n",
    "\n",
    "    return mat_inv"
   ]
  },
  {
   "cell_type": "markdown",
   "metadata": {
    "colab_type": "text",
    "id": "U2Vn00V9Ugdi"
   },
   "source": [
    "### 6. Rank Array\n",
    "Rank the items in a multidimensional array.\n",
    "the rank of an item is its index in the sorted list of all items in arr (starting from 0)\n",
    "\n",
    "Eg:\n",
    "```\n",
    "mat = [[9, 11, 1],\n",
    "       [4, 2, 0],\n",
    "       [5, 7, 12]]\n",
    "```\n",
    "Then,\n",
    "```\n",
    "rank(mat) -> [[6, 7, 1],\n",
    "              [3, 2, 0],\n",
    "              [4, 5, 8]]\n",
    "```"
   ]
  },
  {
   "cell_type": "code",
   "execution_count": 0,
   "metadata": {
    "colab": {},
    "colab_type": "code",
    "id": "PCITYkusY7UO"
   },
   "outputs": [],
   "source": [
    "def rank(arr):\n",
    "    \"\"\"\n",
    "    Inputs:\n",
    "        arr: n dimensional Numpy array\n",
    "    Outputs:\n",
    "        ranked_arr: Numpy array containing ranks, with same shape as arr\n",
    "    \"\"\"\n",
    "    ### Write Code here\n",
    "\n",
    "\n",
    "    return ranked_arr"
   ]
  }
 ],
 "metadata": {
  "colab": {
   "collapsed_sections": [],
   "name": "1 Numpy Assignment.ipynb",
   "private_outputs": true,
   "provenance": []
  },
  "kernelspec": {
   "display_name": "Python 3",
   "language": "python",
   "name": "python3"
  },
  "language_info": {
   "codemirror_mode": {
    "name": "ipython",
    "version": 3
   },
   "file_extension": ".py",
   "mimetype": "text/x-python",
   "name": "python",
   "nbconvert_exporter": "python",
   "pygments_lexer": "ipython3",
   "version": "3.8.5"
  }
 },
 "nbformat": 4,
 "nbformat_minor": 1
}
