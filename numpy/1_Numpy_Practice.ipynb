{
  "nbformat": 4,
  "nbformat_minor": 0,
  "metadata": {
    "colab": {
      "name": "1. Numpy Practice.ipynb",
      "provenance": [],
      "collapsed_sections": []
    },
    "kernelspec": {
      "name": "python3",
      "display_name": "Python 3"
    }
  },
  "cells": [
    {
      "cell_type": "markdown",
      "metadata": {
        "id": "lmQK9qhIafs5",
        "colab_type": "text"
      },
      "source": [
        "# Exercises\n",
        "\n",
        "Exercises will help you practice the topics that you have just learned. It is also ancouraged that you practice some questions of your own applying all the concepts you have learned. \n",
        "\n",
        "General Instructions:\n",
        "1. By array, I mean numpy array\n",
        "2. By matrix I mean a 2D numpy array \n"
      ]
    },
    {
      "cell_type": "code",
      "metadata": {
        "id": "A8oY_Y0lbJrw",
        "colab_type": "code",
        "colab": {}
      },
      "source": [
        "import numpy as np"
      ],
      "execution_count": 0,
      "outputs": []
    },
    {
      "cell_type": "markdown",
      "metadata": {
        "id": "bMlSAt3MalZ7",
        "colab_type": "text"
      },
      "source": [
        "## 1.\n",
        "Create integer array of shape (5, 2) from a range between 100 to 200 (including 100) such that the difference between consecutive elements is 10\n",
        "\n",
        "> Hint: Use np.arange"
      ]
    },
    {
      "cell_type": "code",
      "metadata": {
        "id": "wVttEyPwbHlU",
        "colab_type": "code",
        "colab": {}
      },
      "source": [
        "# Write Code Here\n",
        "arr = \n",
        "\n",
        "print(arr)"
      ],
      "execution_count": 0,
      "outputs": []
    },
    {
      "cell_type": "markdown",
      "metadata": {
        "id": "OGGmc1hkb3fx",
        "colab_type": "text"
      },
      "source": [
        "## 2.\n",
        "\n",
        "Given a matrix `mat` of shape `(m, n)`, $m \\ge 3, n \\ge 3$, Write a function to return an array consisting of the elements of the 3rd column of `mat` \n",
        "\n",
        "Eg:\n",
        "\n",
        "```\n",
        "mat = [[1, 2, 3],\n",
        "       [4, 5, 6],\n",
        "       [7, 8, 9]]\n",
        "```\n",
        "\n",
        "Then\n",
        "```\n",
        "column_3(mat) -> [3, 6, 9]\n",
        "```"
      ]
    },
    {
      "cell_type": "code",
      "metadata": {
        "id": "yNy9DeAqdB2x",
        "colab_type": "code",
        "colab": {}
      },
      "source": [
        "def column_3(mat):\n",
        "    # Write Code Her\n",
        "\n",
        "    return arr"
      ],
      "execution_count": 0,
      "outputs": []
    },
    {
      "cell_type": "code",
      "metadata": {
        "id": "3SPBbekMjOkV",
        "colab_type": "code",
        "colab": {}
      },
      "source": [
        "mat = np.arange(9).reshape(3, -1) \n",
        "print(column_3(mat))"
      ],
      "execution_count": 0,
      "outputs": []
    },
    {
      "cell_type": "markdown",
      "metadata": {
        "id": "JWEDdU6qjsKC",
        "colab_type": "text"
      },
      "source": [
        "> Note: We won't be giving the print statements for checking your code after this. To test the code you can write them if you wish to"
      ]
    },
    {
      "cell_type": "markdown",
      "metadata": {
        "id": "WymrmBCwdKE4",
        "colab_type": "text"
      },
      "source": [
        "## 3.\n",
        "\n",
        "Write a function which does the following: Given a matrix `mat` of shape `(m,n)`, index i, and an array `arr` of shape `(m, )`. Replace the $i^{th}$ column of `mat` with array `arr`.\n",
        "\n",
        "Eg:\n",
        "```\n",
        "mat = [[1, 2, 3],\n",
        "       [4, 5, 6],\n",
        "       [7, 8, 9]]\n",
        "\n",
        "arr = [30, 60, 90]\n",
        "\n",
        "i = 2\n",
        "```\n",
        "\n",
        "Then:\n",
        "```\n",
        "replace_col(mat, i, arr) -> [[1, 2, 30],\n",
        "                             [4, 5, 60],\n",
        "                             [7, 8, 90]]\n",
        "```\n"
      ]
    },
    {
      "cell_type": "code",
      "metadata": {
        "id": "1JtBUpDAeUIq",
        "colab_type": "code",
        "colab": {}
      },
      "source": [
        "def replace_col(mat, i, arr):\n",
        "    # Write code here\n",
        "\n",
        "    return new_mat"
      ],
      "execution_count": 0,
      "outputs": []
    },
    {
      "cell_type": "code",
      "metadata": {
        "id": "bufD3ZbIjcMy",
        "colab_type": "code",
        "colab": {}
      },
      "source": [
        "mat = np.arange(9).reshape(3, -1)\n",
        "arr = [30, 60, 90]\n",
        "i = 2\n",
        "\n",
        "print(replace_col(mat, i, arr))"
      ],
      "execution_count": 0,
      "outputs": []
    },
    {
      "cell_type": "markdown",
      "metadata": {
        "id": "sP13LMrQo4CS",
        "colab_type": "text"
      },
      "source": [
        "## 4. \n",
        "Write a function which given matrix `mat`, and indices `i` and `j`, returns a matrix with column `i` and column `j` of matrix `mat` swapped\n",
        "\n",
        "Eg:\n",
        "\n",
        "```\n",
        "mat = [[1, 2, 3],\n",
        "       [4, 5, 6],\n",
        "       [7, 8, 9]]\n",
        "\n",
        "```\n",
        "then,\n",
        "```\n",
        "swap_col(mat, 0, 2) -> [[3, 2, 1],\n",
        "                        [6, 5, 4],\n",
        "                        [9, 8, 7]]\n",
        "\n"
      ]
    },
    {
      "cell_type": "code",
      "metadata": {
        "id": "rcx8P4_Dp1na",
        "colab_type": "code",
        "colab": {}
      },
      "source": [
        "def swap_col(mat, i, j):\n",
        "    # write Code here\n",
        "\n",
        "    return swapped_mat"
      ],
      "execution_count": 0,
      "outputs": []
    },
    {
      "cell_type": "markdown",
      "metadata": {
        "id": "tGdSjIHUefkc",
        "colab_type": "text"
      },
      "source": [
        "## 5.\n",
        "\n",
        "Write a function that given two vectors `x`, and `y` in the form of numpy arrays of shape `(m, )` returns the cosine of the angle between them:\n",
        "\n",
        "Hint: Use the following identity:\n",
        "$$ \\vec x_2 \\cdot \\vec x_2 = ||\\vec x_1||\\cdot||\\vec x_2|| cos(\\theta) $$\n",
        "\n",
        "Eg:\n",
        "\n",
        "```\n",
        "x = [0.707, 0.5, 0.866]\n",
        "y = [0, 0.5, 0.866]\n",
        "```\n",
        "then,\n",
        "```\n",
        "cos_angle(x, y) -> 0.8165316940905003\n",
        "```"
      ]
    },
    {
      "cell_type": "code",
      "metadata": {
        "id": "AXw0-34bohgZ",
        "colab_type": "code",
        "colab": {}
      },
      "source": [
        "def cos_angle(x, y):\n",
        "    # Write Code here\n",
        "\n",
        "    return cos_theta"
      ],
      "execution_count": 0,
      "outputs": []
    },
    {
      "cell_type": "markdown",
      "metadata": {
        "id": "1zztNOLcqlNN",
        "colab_type": "text"
      },
      "source": [
        "## 6.\n",
        "\n",
        "Given a sqaure matrix containing the joint probability density of two random functions,\n",
        "\n",
        "return a numpy array containing the marginal density of each variable\n",
        "\n",
        "Eg:\n",
        "\n",
        "Given:\n",
        "\n",
        "|    |   x1   |   x2   |   x3   |\n",
        "|----| ------ | ------ | ------ |\n",
        "| y1 | 0.0222 | 0.0444 | 0.0667 |\n",
        "| y2 | 0.0889 | 0.1111 | 0.1333 |\n",
        "| y3 | 0.1556 | 0.1778 | 0.2000 |\n",
        "\n",
        "in the form:\n",
        "```\n",
        "mat = [[0.0222, 0.0444, 0.0667],\n",
        "       [0.0889, 0.1111, 0.1333],\n",
        "       [0.1556, 0.1778, 0.2000]]\n",
        "```\n",
        "\n",
        "then,\n",
        "```\n",
        "marginal(mat) -> [[0.2667, 0.3333, 0.4000], # Marginal Densities of X\n",
        "                  [0.1333, 0.3333, 0.5334]] # marginal Densities of Y\n",
        "```"
      ]
    },
    {
      "cell_type": "code",
      "metadata": {
        "id": "lBSdol5xyfzo",
        "colab_type": "code",
        "colab": {}
      },
      "source": [
        "def marginal(mat):\n",
        "    # Write Code here\n",
        "\n",
        "    return marginal_density"
      ],
      "execution_count": 0,
      "outputs": []
    },
    {
      "cell_type": "markdown",
      "metadata": {
        "id": "Qzzd8dLAzN6H",
        "colab_type": "text"
      },
      "source": [
        "> Supplementary Question: Try extending this to 3 dimensions, or generalising for n dimensions"
      ]
    }
  ]
}