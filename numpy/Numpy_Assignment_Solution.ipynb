{
 "cells": [
  {
   "cell_type": "code",
   "execution_count": 0,
   "metadata": {
    "colab": {},
    "colab_type": "code",
    "id": "K1Oq7GQpDyfk"
   },
   "outputs": [],
   "source": [
    "import numpy as np"
   ]
  },
  {
   "cell_type": "markdown",
   "metadata": {
    "colab_type": "text",
    "id": "aYKL_KnCD5qj"
   },
   "source": [
    "# Common Errors:\n",
    "## 1. General:\n",
    "1. You are not supposed to edit the function signature that we give you. eg: If you add parameters to your functions that did not already exist, the tests will fail.\n",
    "2. Jupyter Notebook store information that it has already processsed in that session. You do not need to keep copying code snippets if you are reusing a function\n",
    "3. You are supposed to write code only between the definition and the return statements, any extra code is again not considered by the evaluation metric.\n",
    "\n",
    "## 2. Code\n",
    "1. Please Please Please format your code properly. \n",
    "2. Check the documentation for the library functions you are using. Some functions might not work as you expect them to.\n",
    "3. Please go through the docstrings very well. The code many of you have written don't generalise and hence might failed the tests.\n",
    "4. Using loops is not promoted, especially when library functions that do that exact task exist and are much faster than their loop counterparts\n",
    "\n",
    "> If you are confused by what assert statements are, here is a brief overview:\n",
    "Assert statements are a part of error handling functionality of python. Assert raises an error whenever the value in front of it is false:\n",
    "\n",
    "eg: \n",
    "`assert False` <---- Raises an exception and the code is not allowed to execute further unless a handler for the error exists.\n",
    "`assert True` <---- Control Flow not interrupted, program proceeds as normal; No error raised"
   ]
  },
  {
   "cell_type": "markdown",
   "metadata": {
    "colab_type": "text",
    "id": "Pi3b6wsBFZQF"
   },
   "source": [
    "## 1. Windows and Strides \n",
    "Given a 1D array, and parameters window_len and stride_len, do the following:\n",
    "1. Divide the 1D array into smaller arrays of size window len starting at index 0\n",
    "2. Move the starting index by step size stride_len eachh time\n",
    "3. Return all windows as a 2D numpy array\n",
    "\n",
    "Eg:\n",
    "```python\n",
    "arr = [1, 2, 3, 4, 5, 6, 7, 8]\n",
    "stride_len = 2\n",
    "window_len = 4\n",
    "```\n",
    "```\n",
    "gen_strides(arr, stride_len, window_len) -> \n",
    "                                [[1, 2, 3, 4],\n",
    "                                 [3, 4, 5, 6],\n",
    "                                 [5, 6, 7, 8]]\n",
    "```"
   ]
  },
  {
   "cell_type": "code",
   "execution_count": 0,
   "metadata": {
    "colab": {},
    "colab_type": "code",
    "id": "HB5jC7h3Gglq"
   },
   "outputs": [],
   "source": [
    "def gen_strides(arr, stride_len, window_len):\n",
    "    \"\"\"\n",
    "    Input:\n",
    "        arr: Numpy array of 1 dimension\n",
    "        stride_len: int, stride length\n",
    "        window_len: int, window length\n",
    "    Output:\n",
    "        window_strides: Numpy array of 2 dimensions containing windowed strides\n",
    "    \"\"\"\n",
    "\n",
    "    ### Write your code here\n",
    "    rows = (arr.size - window_len) // stride_len + 1\n",
    "    n = arr.strides[0]\n",
    "    window_strides = np.lib.stride_tricks.as_strided(\n",
    "        arr,\n",
    "        shape=(rows,window_len),\n",
    "        strides=(stride_len*n,n)\n",
    "    )\n",
    "\n",
    "    return window_strides"
   ]
  },
  {
   "cell_type": "code",
   "execution_count": 0,
   "metadata": {
    "colab": {},
    "colab_type": "code",
    "id": "l_Lzmp6VwENs"
   },
   "outputs": [],
   "source": [
    "assert np.all(gen_strides(np.array([1, 3, 7, 1, 2, 6, 0]), 4, 2) == np.array([[1, 3], [2, 6]]))\n",
    "assert np.all(gen_strides(np.array([1, 3, 7, 1, 2, 6, 0, 1, 3, 4]), 3, 4) == np.array([[1, 3, 7, 1], [1, 2, 6, 0], [0, 1, 3, 4]]))\n",
    "print(\"Sample tests passed \\U0001F44D\")"
   ]
  },
  {
   "cell_type": "markdown",
   "metadata": {
    "colab_type": "text",
    "id": "RBpIUPEQIje5"
   },
   "source": [
    "## 2. Shuffle\n",
    "Given a numpy array of arbitrary dimensions ($\\ge1$), shuffle its rows randomly \n",
    "\n",
    "Eg:\n",
    "```\n",
    "arr = [[1, 2, 3],\n",
    "       [4, 5, 6],\n",
    "       [7, 8, 9]]\n",
    "```\n",
    "then,\n",
    "\n",
    "```\n",
    "shuf(arr) -> [[7, 8, 9],\n",
    "              [1, 2, 3],\n",
    "              [4, 5, 6]]\n",
    "```"
   ]
  },
  {
   "cell_type": "code",
   "execution_count": 0,
   "metadata": {
    "colab": {},
    "colab_type": "code",
    "id": "0GVMkDqIKkLf"
   },
   "outputs": [],
   "source": [
    "def shuf(arr):\n",
    "    \"\"\"\n",
    "    Input:\n",
    "        arr: Numpy array of arbitrary number of dimensions\n",
    "    Output:\n",
    "        shuffled_arr: numpy array of same shape as arr but with rows shuffled\n",
    "    \"\"\"\n",
    "\n",
    "    ### Write Code here\n",
    "    shuffled_arr = arr.copy()\n",
    "    np.random.shuffle(shuffled_arr) # np.random.shuffle, shuffles the arrray inplace, does not return a new array\n",
    "\n",
    "    return shuffled_arr"
   ]
  },
  {
   "cell_type": "code",
   "execution_count": 0,
   "metadata": {
    "colab": {},
    "colab_type": "code",
    "id": "XFImcqjKwf31"
   },
   "outputs": [],
   "source": [
    "assert np.any(shuf(np.arange(12).reshape(3, 4)) != np.arange(12).reshape(3, 4))\n",
    "assert shuf(np.arange(12).reshape(3, 4)).shape == np.arange(12).reshape(3, 4).shape\n",
    "assert np.any(shuf(np.arange(12).reshape(3, 2, 2)) != np.arange(12).reshape(3, 2, 2))\n",
    "assert shuf(np.arange(12).reshape(3, 2, 2)).shape == np.arange(12).reshape(3, 2, 2).shape\n",
    "print(\"Sample tests passed \\U0001F44D\")"
   ]
  },
  {
   "cell_type": "markdown",
   "metadata": {
    "colab_type": "text",
    "id": "LY5CNZrLShfJ"
   },
   "source": [
    "### 3. Match\n",
    "\n",
    "Get the indices corresponding to the matching elements of array a and array b\n",
    "\n",
    "Eg:\n",
    "```python\n",
    "a = [1, 2, 3, 4, 5, 6, 7, 8, 9]\n",
    "b = [0, 2, 4, 8, 7, 6, 7, 9, 8]\n",
    "```\n",
    "\n",
    "Then,\n",
    "```\n",
    "match(a, b) -> [1, 5, 6]\n",
    "```"
   ]
  },
  {
   "cell_type": "code",
   "execution_count": 0,
   "metadata": {
    "colab": {},
    "colab_type": "code",
    "id": "G8gUM8xsTKC_"
   },
   "outputs": [],
   "source": [
    "def match(a, b):\n",
    "    \"\"\"\n",
    "    Inputs:\n",
    "        a: Numpy array of one dimension\n",
    "        b: Numpy array of one dimension\n",
    "    Output:\n",
    "        matched_idx: List containing indices where both arrays have same elements\n",
    "    \"\"\"\n",
    "    ### Write Code her\n",
    "\n",
    "    n = min(a.size, b.size)\n",
    "    matched_idx = np.where(np.equal(a[:n], b[:n]))[0]\n",
    "\n",
    "    return matched_idx.tolist()"
   ]
  },
  {
   "cell_type": "code",
   "execution_count": 0,
   "metadata": {
    "colab": {},
    "colab_type": "code",
    "id": "PLIZtgt1sdAS"
   },
   "outputs": [],
   "source": [
    "assert match(np.array([1,2,3,2,3,4,3,4,5,6]), np.array([7,2,10,2,7,4,9,4,9,8,9])) == [1, 3, 5, 7]\n",
    "assert match(np.array([1,2,3,2,3,4,3,4,5,6,7]), np.array([7,2,10,2,7,4,9,4,9,8])) == [1, 3, 5, 7]\n",
    "\n",
    "print(\"Sample tests passed \\U0001F44D\")"
   ]
  },
  {
   "cell_type": "markdown",
   "metadata": {
    "colab_type": "text",
    "id": "1Iuj8NqMUoCO"
   },
   "source": [
    "### 4.1 Minor of a matrix\n",
    "\n",
    "Given a numpy array of shape `(n, n)` and an index i, find the minor of element at row 0, column i of the matrix\n",
    "\n",
    "Eg:\n",
    "```python\n",
    "mat = [[1, 2, 3],\n",
    "       [4, 5, 6],\n",
    "       [7, 8, 9]]\n",
    "```\n",
    "\n",
    "Then,\n",
    "```\n",
    "minor(mat, 1) -> [[4, 6],\n",
    "                  [7, 9]]\n",
    "```"
   ]
  },
  {
   "cell_type": "code",
   "execution_count": 0,
   "metadata": {
    "colab": {},
    "colab_type": "code",
    "id": "JMIYjpC1VWIU"
   },
   "outputs": [],
   "source": [
    "def minor(mat, i):\n",
    "    \"\"\"\n",
    "    Inputs:\n",
    "        mat: A numpy array of shape (n, n)\n",
    "        i: int, Column of which minor is to be found\n",
    "    Outputs:\n",
    "        mat_minor: A numpy array of shape (n - 1, n - 1) containing minor of mat\n",
    "    \"\"\"\n",
    "    ### write code here\n",
    "    minor_mat = np.delete(\n",
    "        np.delete(mat, 0, axis=0), i, axis=1)\n",
    "\n",
    "    return minor_mat "
   ]
  },
  {
   "cell_type": "code",
   "execution_count": 0,
   "metadata": {
    "colab": {},
    "colab_type": "code",
    "id": "hyKx_B26x8rA"
   },
   "outputs": [],
   "source": [
    "assert np.all(minor(np.arange(9).reshape(3, -1), 0) == np.array([[4, 5], [7, 8]]))\n",
    "print(\"Sample Tests passed\", '\\U0001F44D')"
   ]
  },
  {
   "cell_type": "markdown",
   "metadata": {
    "colab_type": "text",
    "id": "9oX_EJquXttt"
   },
   "source": [
    "### 4.2 Determinant of a matrix\n",
    "Given a numpy array of shape (n, n) find its determinant"
   ]
  },
  {
   "cell_type": "code",
   "execution_count": 0,
   "metadata": {
    "colab": {},
    "colab_type": "code",
    "id": "SRvikvhQX4h9"
   },
   "outputs": [],
   "source": [
    "def det(mat):\n",
    "    \"\"\"\n",
    "    Inputs: \n",
    "        mat: A numpy array of shape (n, n)\n",
    "    Outputs:\n",
    "        det_mat: Determinant of mat\n",
    "    \"\"\"\n",
    "    ### Write code here\n",
    "    det_mat=np.linalg.det(mat)\n",
    "    \n",
    "    return det_mat"
   ]
  },
  {
   "cell_type": "code",
   "execution_count": 0,
   "metadata": {
    "colab": {},
    "colab_type": "code",
    "id": "bJGUV5kEx_mt"
   },
   "outputs": [],
   "source": [
    "assert det(np.arange(9).reshape(3, 3)) == 0\n",
    "print(\"Sample Tests passed\", '\\U0001F44D')"
   ]
  },
  {
   "cell_type": "markdown",
   "metadata": {
    "colab_type": "text",
    "id": "irZMP8_4T5yv"
   },
   "source": [
    "### 5. Inverse of Array\n",
    "Given a numpy array with shape `(n, n)` find its inverse"
   ]
  },
  {
   "cell_type": "code",
   "execution_count": 0,
   "metadata": {
    "colab": {},
    "colab_type": "code",
    "id": "VB2qPuFXUKuV"
   },
   "outputs": [],
   "source": [
    "def inv(mat):\n",
    "    \"\"\"\n",
    "    Inputs:\n",
    "        mat: Numpy array of shape (n, n)\n",
    "    Outputs:\n",
    "        mat_inv: Inverse of mat\n",
    "    \"\"\"\n",
    "    ### Write Code here\n",
    "    mat_inv=np.linalg.inv(mat)\n",
    "    \n",
    "    return mat_inv"
   ]
  },
  {
   "cell_type": "code",
   "execution_count": 0,
   "metadata": {
    "colab": {},
    "colab_type": "code",
    "id": "YlVrjTHyyCXf"
   },
   "outputs": [],
   "source": [
    "assert np.all(np.isclose(inv(np.array([[6, 1, 1], [4, -2, 5], [2, 8, 7]])).tolist(), np.array([[0.17647058823529413, -0.0032679738562091526, -0.02287581699346405],[0.05882352941176469, -0.130718954248366, 0.0849673202614379],[-0.1176470588235294, 0.1503267973856209, 0.0522875816993464]])))\n",
    "print(\"Sample Tests passed\", '\\U0001F44D')"
   ]
  },
  {
   "cell_type": "markdown",
   "metadata": {
    "colab_type": "text",
    "id": "U2Vn00V9Ugdi"
   },
   "source": [
    "### 6. Rank Array\n",
    "Rank the items in a multidimensional array.\n",
    "the rank of an item is its index in the sorted list of all items in arr (starting from 0)\n",
    "\n",
    "Eg:\n",
    "```\n",
    "mat = [[9, 11, 1],\n",
    "       [4, 2, 0],\n",
    "       [5, 7, 12]]\n",
    "```\n",
    "Then,\n",
    "```\n",
    "rank(mat) -> [[6, 7, 1],\n",
    "              [3, 2, 0],\n",
    "              [4, 5, 8]]\n",
    "```"
   ]
  },
  {
   "cell_type": "code",
   "execution_count": 0,
   "metadata": {
    "colab": {},
    "colab_type": "code",
    "id": "PCITYkusY7UO"
   },
   "outputs": [],
   "source": [
    "def rank(arr):\n",
    "    \"\"\"\n",
    "    Inputs:\n",
    "        arr: n dimensional Numpy array\n",
    "    Outputs:\n",
    "        ranked_arr: Numpy array containing ranks, with same shape as arr\n",
    "    \"\"\"\n",
    "    ### Write Code here\n",
    "    flattened_arr = arr.ravel()\n",
    "    raw_ranks = flattened_arr.argsort().argsort()\n",
    "    ranked_arr = raw_ranks.reshape(arr.shape)\n",
    "\n",
    "    return ranked_arr"
   ]
  },
  {
   "cell_type": "code",
   "execution_count": 0,
   "metadata": {
    "colab": {},
    "colab_type": "code",
    "id": "5rZpEoB6yFVa"
   },
   "outputs": [],
   "source": [
    "assert(np.all(rank(np.array([[9, 4, 15, 0, 17], [16,17,8,9,0]])) == [[4, 2, 6, 0, 8], [7, 9, 3, 5, 1]]))\n",
    "print(\"Sample Tests passed\", '\\U0001F44D')"
   ]
  }
 ],
 "metadata": {
  "colab": {
   "collapsed_sections": [],
   "name": "Numpy Assignment Solution.ipynb",
   "private_outputs": true,
   "provenance": []
  },
  "kernelspec": {
   "display_name": "Python 3",
   "language": "python",
   "name": "python3"
  },
  "language_info": {
   "codemirror_mode": {
    "name": "ipython",
    "version": 3
   },
   "file_extension": ".py",
   "mimetype": "text/x-python",
   "name": "python",
   "nbconvert_exporter": "python",
   "pygments_lexer": "ipython3",
   "version": "3.8.5"
  }
 },
 "nbformat": 4,
 "nbformat_minor": 1
}
