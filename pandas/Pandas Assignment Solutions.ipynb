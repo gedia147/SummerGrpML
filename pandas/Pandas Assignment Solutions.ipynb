{
 "cells": [
  {
   "cell_type": "code",
   "execution_count": null,
   "metadata": {},
   "outputs": [],
   "source": [
    "#Colab users uncomment this code\n",
    "#Files for this notebook are Energy Indicators.xls and world_bank.csv"
   ]
  },
  {
   "cell_type": "code",
   "execution_count": null,
   "metadata": {},
   "outputs": [],
   "source": [
    "\"\"\"\n",
    "!pip install -U -q PyDrive\n",
    "from pydrive.auth import GoogleAuth\n",
    "from pydrive.drive import GoogleDrive\n",
    "from google.colab import auth\n",
    "from oauth2client.client import GoogleCredentials\n",
    "\"\"\""
   ]
  },
  {
   "cell_type": "code",
   "execution_count": null,
   "metadata": {},
   "outputs": [],
   "source": [
    "\"\"\"\n",
    "auth.authenticate_user()\n",
    "gauth = GoogleAuth()\n",
    "gauth.credentials = GoogleCredentials.get_application_default()\n",
    "drive = GoogleDrive(gauth)\n",
    "\"\"\""
   ]
  },
  {
   "cell_type": "code",
   "execution_count": null,
   "metadata": {},
   "outputs": [],
   "source": [
    "\"\"\"\n",
    "downloaded = drive.CreateFile({'id':'1R9vW5dmox7i8OGOoDql_r9yUrvAJgvhD'}) # replace the id with id of file you want to access\n",
    "downloaded.GetContentFile('Energy Indicators.xls')\n",
    "\"\"\""
   ]
  },
  {
   "cell_type": "code",
   "execution_count": null,
   "metadata": {},
   "outputs": [],
   "source": [
    "\"\"\"\n",
    "downloaded = drive.CreateFile({'id':'1R9vW5dmox7i8OGOoDql_r9yUrvAJgvhD'}) # replace the id with id of file you want to access\n",
    "downloaded.GetContentFile('world_bank.csv')\n",
    "\"\"\""
   ]
  },
  {
   "cell_type": "markdown",
   "metadata": {},
   "source": [
    "# PANDAS ASSIGNMENT SOLUTIONS (100)\n",
    "<hr style=\"height:5px;border-width:2;color:gray\">"
   ]
  },
  {
   "cell_type": "markdown",
   "metadata": {},
   "source": [
    "In this assignment you'll be handling two datasets, <code>Energy Indicators.xls</code> and <code>world_bank.csv</code> and answering some questions.<br><br>\n",
    "<b>Grading:</b>\n",
    "<ul>\n",
    "    <li>Each question has the corresponding total marks next to it.</li>\n",
    "    <li>Each question will be graded on <b>final answer (60%)</b> and <b>conciseness of code (40%)</b>.</li>\n",
    "    <li>There is no partial marking for final answer but there is partial marking for conciseness of code</li>\n",
    "    <li>The total marks will be scaled down later on as per requirement.</li>\n",
    "</ul>"
   ]
  },
  {
   "cell_type": "code",
   "execution_count": null,
   "metadata": {},
   "outputs": [],
   "source": [
    "import pandas as pd\n",
    "import numpy as np"
   ]
  },
  {
   "cell_type": "markdown",
   "metadata": {},
   "source": [
    "## Loading and Cleaning the Data (50)\n",
    "<div class=\"alert alert-block alert-warning\">\n",
    "    <b>Note that this is the most important part of this assignment as without successfully loading and cleaning the data, future questions cannot be answered.</b>\n",
    "</div>"
   ]
  },
  {
   "cell_type": "markdown",
   "metadata": {},
   "source": [
    "#### Energy Indicators data ( 6 X 5 = 30)\n",
    "<b>Instructions</b>:\n",
    "<ol>\n",
    "    <li>Load the <b>excel file</b> <code>Energy Indicators.xls</code> into dataframe called <code>energy</code>.</li>\n",
    "    <li>Make sure to exclude header and footer information from the datafile.</li>\n",
    "    <li>The first two columns are unecessary and hence get rid of them.</li>\n",
    "    <li>Change the remaining column names to <code>['Country', 'Energy Supply', 'Energy Supply per Capita', '% Renewable']</code>.</li>\n",
    "    <li>The Energy Supply is in petajoule. Covert it to gigajoule. (1 petajoule = 1,000,000 gigajoule)</li>\n",
    "    <li>Rename the following list of countries:\n",
    "        <ul>\n",
    "        <li>\"Republic of Korea\" : \"South Korea\"</li>\n",
    "        <li>\"United States of America\" : \"United States\"</li>\n",
    "        <li>\"United Kingdom of Great Britain and Northern Ireland\" : \"United Kingdom\"</li>\n",
    "        <li>\"China, Hong Kong Special Administrative Region\" : \"Hong Kong\"</li>\n",
    "        </ul>\n",
    "    </li>\n",
    "</ol>\n",
    "<div class=\"alert alert-block alert-info\">\n",
    "    <b>Hint</b>: <code>energy</code> dataframe has 227 rows and 4 columns.\n",
    "</div>"
   ]
  },
  {
   "cell_type": "code",
   "execution_count": null,
   "metadata": {},
   "outputs": [],
   "source": [
    "energy = pd.read_excel(\"Energy Indicators.xls\", skiprows = 17, skipfooter = 38, usecols = range(2,6), names = ['Country', 'Energy Supply', 'Energy Supply per Capita', '% Renewable'])\n",
    "energy[\"Energy Supply\"] = energy[\"Energy Supply\"]*1000000\n",
    "di = {\"Republic of Korea\": \"South Korea\", \"United States of America\": \"United States\", \"United Kingdom of Great Britain and Northern Ireland\": \"United Kingdom\", \"China, Hong Kong Special Administrative Region\": \"Hong Kong\"}\n",
    "energy['Country'].replace(di, inplace = True)\n",
    "energy"
   ]
  },
  {
   "cell_type": "markdown",
   "metadata": {},
   "source": [
    "#### GDP Data (10)\n",
    "<b>Instructions: </b><br>\n",
    "<ol>\n",
    "    <li>Load the <b>csv file</b> <code>world_bank.csv</code> into a dataframe called <code>GDP</code>.</li>\n",
    "    <li>Skip the headers.</li>\n",
    "    <li>The GDP dataframe must only have the columns of country name and GDP of years 2006-2015 (both inclusive)</li>\n",
    "    <li>Rename the following list of countries:</li>\n",
    "    <ul>\n",
    "        <li>\"Korea, Rep.\": \"South Korea\"</li>\n",
    "        <li>\"Iran, Islamic Rep.\": \"Iran\"</li>\n",
    "        <li>\"Hong Kong SAR, China\": \"Hong Kong\"</li>\n",
    "    </ul>\n",
    "</ol>\n",
    "<div class=\"alert alert-block alert-info\">\n",
    "    <b>Hint</b>: <code>GDP</code> dataframe has 264 rows and 11 columns.\n",
    "</div>"
   ]
  },
  {
   "cell_type": "code",
   "execution_count": null,
   "metadata": {},
   "outputs": [],
   "source": [
    "GDP = pd.read_csv(\"world_bank.csv\", skiprows = 4)\n",
    "di = {\"Korea, Rep.\": \"South Korea\", \"Iran, Islamic Rep.\": \"Iran\", \"Hong Kong SAR, China\": \"Hong Kong\"}\n",
    "GDP['Country Name'].replace(di, inplace = True)\n",
    "cols = [GDP.columns[0]] + list(GDP.columns[-10:]) #Or usecols attribute can be used in pd.read_csv\n",
    "GDP = GDP[cols]\n",
    "GDP"
   ]
  },
  {
   "cell_type": "markdown",
   "metadata": {},
   "source": [
    "#### Merging the dataframes (10)\n",
    "<b>Instructions</b>:\n",
    "Merge the two dataframes into one and call it <code>energy_GDP</code> which has data pertaining to countries common to both dataframes. <code>energy_GDP</code> must have <b>13 columns</b> excluding the index, which should be <code>Country</code>. After this reduce the dataframe to have data pertaining the countries given in the next cell."
   ]
  },
  {
   "cell_type": "code",
   "execution_count": null,
   "metadata": {},
   "outputs": [],
   "source": [
    "countries = ['China', 'United States', 'Japan', 'United Kingdom', 'Russian Federation', 'Canada', 'Germany', 'India', 'France', 'South Korea', 'Italy', 'Spain', 'Iran', 'Australia', 'Brazil']"
   ]
  },
  {
   "cell_type": "code",
   "execution_count": null,
   "metadata": {},
   "outputs": [],
   "source": [
    "energy_GDP = pd.merge(energy, GDP.rename(columns = {'Country Name':'Country'}), how = 'inner', on = 'Country').set_index('Country')\n",
    "energy_GDP = energy_GDP.loc[countries]\n",
    "energy_GDP"
   ]
  },
  {
   "cell_type": "markdown",
   "metadata": {},
   "source": [
    "## Questions (50)"
   ]
  },
  {
   "cell_type": "markdown",
   "metadata": {},
   "source": [
    "#### 1. What is the average GDP over the last 10 years for each country? (exclude missing values from this calculation.) (5)\n",
    "(Your answer should be a series in descending order by average GDP)"
   ]
  },
  {
   "cell_type": "code",
   "execution_count": null,
   "metadata": {},
   "outputs": [],
   "source": [
    "avgGDP = energy_GDP.iloc[:, -10:].mean(axis = 1)\n",
    "avgGDP = avgGDP.sort_values(ascending = False)\n",
    "avgGDP"
   ]
  },
  {
   "cell_type": "markdown",
   "metadata": {},
   "source": [
    "#### 2. By how much had the GDP changed over the 10 year span for the country with the 6th largest average GDP? (5)\n",
    "(Your answer should be a single number)"
   ]
  },
  {
   "cell_type": "code",
   "execution_count": null,
   "metadata": {},
   "outputs": [],
   "source": [
    "ctry = avgGDP.index[5]\n",
    "energy_GDP.loc[ctry, '2015'] - energy_GDP.loc[ctry, '2006']"
   ]
  },
  {
   "cell_type": "markdown",
   "metadata": {},
   "source": [
    "#### 3. What country has the maximum % Renewable and what is the percentage? (10)\n",
    "(Your answer should be a python tuple coontaining country name and its % Renewable)"
   ]
  },
  {
   "cell_type": "code",
   "execution_count": null,
   "metadata": {},
   "outputs": [],
   "source": [
    "(energy_GDP[\"% Renewable\"].idxmax(), energy_GDP[\"% Renewable\"].max())"
   ]
  },
  {
   "cell_type": "markdown",
   "metadata": {},
   "source": [
    "#### 4(i). Create a column that estimates the population using Energy Supply and Energy Supply per capita. (5)\n",
    "<div class=\"alert alert-block alert-warning\">\n",
    "    <b>Note: </b>Convert the population estimation by energy to np.float64 format.\n",
    "</div>\n",
    "(Your answer should be the first five rows of a dataframe)\n"
   ]
  },
  {
   "cell_type": "code",
   "execution_count": null,
   "metadata": {},
   "outputs": [],
   "source": [
    "energy_GDP[\"Population Estimate by Energy\"] = np.float64(energy_GDP[\"Energy Supply\"]/energy_GDP[\"Energy Supply per Capita\"])\n",
    "energy_GDP.head()"
   ]
  },
  {
   "cell_type": "markdown",
   "metadata": {},
   "source": [
    "#### 4(ii). What is the third most populous country according to this (5)\n",
    "(Your answer should be a single string)"
   ]
  },
  {
   "cell_type": "code",
   "execution_count": null,
   "metadata": {},
   "outputs": [],
   "source": [
    "energy_GDP.sort_values(by = 'Population Estimate by Energy', ascending = False).index[2]"
   ]
  },
  {
   "cell_type": "markdown",
   "metadata": {},
   "source": [
    "#### 5. Create a series with country as index and value 1 if the country's % Renewable is above the median % Renewable of the 15 countries and 0 otherwise. (5)\n",
    "(Your answer should be a series)"
   ]
  },
  {
   "cell_type": "code",
   "execution_count": null,
   "metadata": {},
   "outputs": [],
   "source": [
    "med = energy_GDP[\"% Renewable\"].median()\n",
    "HighRenew = (energy_GDP[\"% Renewable\"] >= med)*1\n",
    "HighRenew"
   ]
  },
  {
   "cell_type": "markdown",
   "metadata": {},
   "source": [
    "#### 6. Summary of continents (15)\n",
    "Group the countries by continent and display the following data for each continent: (All data regarding the given 15 countries)\n",
    "<ul>\n",
    "    <li><b>size</b>: The number of countries in this continent</li>\n",
    "    <li><b>sum</b>: Total population estimate of this continent</li>\n",
    "    <li><b>mean</b>: Mean country population in this continent</li>\n",
    "    <li><b>std</b>: Standard deviation of country population in this continent</li>\n",
    "</ul>\n",
    "Use the dictionary in the next cell to assign corresponding continent to each country.<br>\n",
    "(Your answer should be  a dataframe with index named Continent <code>['Asia', 'Australia', 'Europe', 'North America', 'South America']</code> and columns <code>['size', 'sum', 'mean', 'std']</code> and it will have two <code>NaN</code>)"
   ]
  },
  {
   "cell_type": "code",
   "execution_count": null,
   "metadata": {},
   "outputs": [],
   "source": [
    "continents = {'China':'Asia', \n",
    "                  'United States':'North America', \n",
    "                  'Japan':'Asia', \n",
    "                  'United Kingdom':'Europe', \n",
    "                  'Russian Federation':'Europe', \n",
    "                  'Canada':'North America', \n",
    "                  'Germany':'Europe', \n",
    "                  'India':'Asia',\n",
    "                  'France':'Europe', \n",
    "                  'South Korea':'Asia', \n",
    "                  'Italy':'Europe', \n",
    "                  'Spain':'Europe', \n",
    "                  'Iran':'Asia',\n",
    "                  'Australia':'Australia', \n",
    "                  'Brazil':'South America'}"
   ]
  },
  {
   "cell_type": "code",
   "execution_count": null,
   "metadata": {},
   "outputs": [],
   "source": [
    "Continents_df=energy_GDP['Population Estimate by Energy'].groupby(continents).agg(['size','sum','mean','std'])\n",
    "Continents_df"
   ]
  },
  {
   "cell_type": "markdown",
   "metadata": {},
   "source": [
    "### Sources:\n",
    "<ul>\n",
    "    <li><b>Exercise</b>: Some questions in the exercise were taken from Udemy's Python for Data Science and Machine Learning Bootcamp course.</li>\n",
    "    <li><b>Assignment</b>: The dataset and assignment questions were taken from Coursera's Inroduction to Data Science in Python course (University of Michigan). However the dataset was slightly modified to make the cleaning process easier.</li>"
   ]
  }
 ],
 "metadata": {
  "kernelspec": {
   "display_name": "Python 3",
   "language": "python",
   "name": "python3"
  },
  "language_info": {
   "codemirror_mode": {
    "name": "ipython",
    "version": 3
   },
   "file_extension": ".py",
   "mimetype": "text/x-python",
   "name": "python",
   "nbconvert_exporter": "python",
   "pygments_lexer": "ipython3",
   "version": "3.7.4"
  }
 },
 "nbformat": 4,
 "nbformat_minor": 2
}
